{
 "cells": [
  {
   "cell_type": "code",
   "id": "initial_id",
   "metadata": {
    "collapsed": true,
    "ExecuteTime": {
     "end_time": "2024-12-09T20:55:49.051285Z",
     "start_time": "2024-12-09T20:55:49.018121Z"
    }
   },
   "source": [
    "import torch\n",
    "from neuromancer.psl import plot\n",
    "from neuromancer import psl\n",
    "import matplotlib.pyplot as plt\n",
    "from torch.utils.data import DataLoader\n",
    "from matplotlib.lines import Line2D\n",
    "\n",
    "from neuromancer.system import Node, System\n",
    "from neuromancer.dynamics import integrators\n",
    "from neuromancer.trainer import Trainer\n",
    "from neuromancer.problem import Problem\n",
    "from neuromancer.loggers import BasicLogger\n",
    "from neuromancer.dataset import DictDataset\n",
    "from neuromancer.constraint import variable\n",
    "from neuromancer.loss import PenaltyLoss\n",
    "from neuromancer.modules import blocks\n",
    "from neuromancer.plot import pltOL\n",
    "\n",
    "from utils import seed_everything\n",
    "\n",
    "torch.manual_seed(0);"
   ],
   "outputs": [],
   "execution_count": 7
  },
  {
   "metadata": {
    "ExecuteTime": {
     "end_time": "2024-12-09T20:55:51.710818Z",
     "start_time": "2024-12-09T20:55:51.646842Z"
    }
   },
   "cell_type": "code",
   "source": "syst = psl.systems['LinearSimpleSingleZone']()",
   "id": "d1fbf6b526480750",
   "outputs": [],
   "execution_count": 8
  },
  {
   "metadata": {
    "ExecuteTime": {
     "end_time": "2024-12-09T20:31:32.832903Z",
     "start_time": "2024-12-09T20:31:32.828182Z"
    }
   },
   "cell_type": "code",
   "source": [
    "import numpy as np\n",
    "np.random.randint(2)"
   ],
   "id": "e653c48ffe645602",
   "outputs": [
    {
     "data": {
      "text/plain": [
       "1"
      ]
     },
     "execution_count": 149,
     "metadata": {},
     "output_type": "execute_result"
    }
   ],
   "execution_count": 149
  },
  {
   "metadata": {
    "ExecuteTime": {
     "end_time": "2024-12-09T21:03:59.763218Z",
     "start_time": "2024-12-09T21:03:59.696727Z"
    }
   },
   "cell_type": "code",
   "source": [
    "syst = psl.systems['LinearSimpleSingleZone'](seed=0)\n",
    "\n",
    "nsim = 1\n",
    "\n",
    "input_x = syst.get_x0()\n",
    "input_u = syst.get_U(nsim+1)[0].reshape(1,1)\n",
    "input_d = syst.get_D(nsim)\n",
    "\n",
    "print(\"input x : \",input_x)\n",
    "print(\"input u : \",input_u)\n",
    "print(\"input d : \", input_d)\n",
    "\n",
    "# simulate the building model over 1000 timesteps\n",
    "\n",
    "sim = syst.simulate(nsim=nsim, x0=input_x, U=input_u, D=input_d)\n",
    "print(sim)\n",
    "\n"
   ],
   "id": "eaf408190f7e7fa7",
   "outputs": [
    {
     "name": "stdout",
     "output_type": "stream",
     "text": [
      "input x :  [22.423302 20.345371 17.995855 20.946806]\n",
      "input u :  [[2500.]]\n",
      "input d :  [[  9.514007 500.       991.16547 ]]\n",
      "{'X': array([[22.41701 , 20.350218, 17.858307, 22.129257]], dtype=float32), 'Y': array([[22.129257]], dtype=float32), 'U': array([], shape=(0, 1), dtype=float32), 'D': array([], shape=(0, 1), dtype=float32), 'Dhidden': array([], shape=(0, 3), dtype=float32), 'Time': array([0.01])}\n"
     ]
    }
   ],
   "execution_count": 55
  },
  {
   "metadata": {
    "ExecuteTime": {
     "end_time": "2024-12-09T21:03:53.892124Z",
     "start_time": "2024-12-09T21:03:53.882659Z"
    }
   },
   "cell_type": "code",
   "source": "input_u[0].reshape(1,1)",
   "id": "50bccf7e65bef074",
   "outputs": [
    {
     "data": {
      "text/plain": [
       "array([[2500.]], dtype=float32)"
      ]
     },
     "execution_count": 54,
     "metadata": {},
     "output_type": "execute_result"
    }
   ],
   "execution_count": 54
  },
  {
   "metadata": {
    "ExecuteTime": {
     "end_time": "2024-12-09T21:00:22.477705Z",
     "start_time": "2024-12-09T21:00:22.474796Z"
    }
   },
   "cell_type": "code",
   "source": "syst.get_U()",
   "id": "f38cdf30b012947e",
   "outputs": [
    {
     "data": {
      "text/plain": [
       "array([[1.6666666e+03],\n",
       "       [2.5001106e+03],\n",
       "       [1.0000000e+00]], dtype=float32)"
      ]
     },
     "execution_count": 25,
     "metadata": {},
     "output_type": "execute_result"
    }
   ],
   "execution_count": 25
  },
  {
   "metadata": {
    "ExecuteTime": {
     "end_time": "2024-12-09T21:05:43.527342Z",
     "start_time": "2024-12-09T21:05:43.524812Z"
    }
   },
   "cell_type": "code",
   "source": "syst.nd",
   "id": "b8e602cb392a6dde",
   "outputs": [
    {
     "data": {
      "text/plain": [
       "1"
      ]
     },
     "execution_count": 59,
     "metadata": {},
     "output_type": "execute_result"
    }
   ],
   "execution_count": 59
  },
  {
   "metadata": {},
   "cell_type": "code",
   "outputs": [],
   "execution_count": null,
   "source": "",
   "id": "b2a506921059a3b2"
  }
 ],
 "metadata": {
  "kernelspec": {
   "display_name": "Python 3",
   "language": "python",
   "name": "python3"
  },
  "language_info": {
   "codemirror_mode": {
    "name": "ipython",
    "version": 2
   },
   "file_extension": ".py",
   "mimetype": "text/x-python",
   "name": "python",
   "nbconvert_exporter": "python",
   "pygments_lexer": "ipython2",
   "version": "2.7.6"
  }
 },
 "nbformat": 4,
 "nbformat_minor": 5
}
