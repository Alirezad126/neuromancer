{
 "cells": [
  {
   "cell_type": "markdown",
   "id": "b4bb9f415241e834",
   "metadata": {},
   "source": [
    "# Learning to Control Indoor Air Temperature in Buildings With Primal-Dual DDPG and Differentiable Predictive Control\n",
    "\n",
    "This notebook demonstrates and compares two advanced methods for controlling indoor air temperature in a single-zone building:\n",
    "- **Primal-Dual Deep Deterministic Policy Gradient (PD-DDPG)**: A reinforcement learning method tailored for constrained optimization in dynamic environments.\n",
    "- **Differentiable Predictive Control (DPC)**: A model-based offline policy optimization approach leveraging differentiable system dynamics.\n",
    "---\n",
    "## Motivation\n",
    "Buildings today contribute to roughly 40% of the global energy use (approx. 64 PWh), of which a large portion is used for [heating, cooling, ventilation, and air-conditioning (HVAC)](https://en.wikipedia.org/wiki/Heating,_ventilation,_and_air_conditioning) [4]. It has been demonstrated that advanced building control, like [model predictive control (MPC)](https://en.wikipedia.org/wiki/Model_predictive_control)\n",
    "or [deep reinforcement learning (DRL)](https://en.wikipedia.org/wiki/Deep_reinforcement_learning), can notably reduce the energy use and mitigate greenhouse gas emissions. However, despite intensive research efforts, the practical applications are still in the early stages. One of these challenges is the complexity of the optimal control technology to be deployed in the current predominantly rule-based [building automation systems](https://en.wikipedia.org/wiki/Building_automation).\n",
    "\n",
    "  \n",
    "Below is a simplified representation of a building control scheme governed by advanced optimization algorithms:\n",
    "<img src=\"./figs/building_control.PNG\" width=\"500\">\n",
    "\n",
    "---\n",
    "## Objectives\n",
    "1. Train a PD-DDPG agent for building temperature regulation task.\n",
    "2. Implement DPC for the same problem and compare:\n",
    "   - Energy consumption.\n",
    "   - Temperature constraint violations.\n",
    "   - Training time.\n",
    "3. Provide insights into the strengths and weaknesses of both methods.\n",
    "---\n",
    "## Differentiable Predictive Control (DPC)\n",
    "\n",
    "[Differentiable Predictive Control](https://www.sciencedirect.com/science/article/pii/S0959152422000981) (DPC) is a model-based offline optimization algorithm that leverages differentiable system models to train constrained control policies. \n",
    "\n",
    "**Key Features of DPC**:\n",
    "- **Differentiable system model**:  \n",
    "The DPC is a model-based policy optimization algorithm, that exploits the differentiability of a wide class of model representations for dynamical systems, including differential equations, state-space models, or various neural network architectures. In this example, we compactly represent the system model by ODE equations  $\\text{ODESolve}(f(x^i_k, u^i_k))$  describing the governing dynamics of the controlled system. \n",
    "- **Constrained Neural Policy**: Learns a control policy $u_k = \\pi(x_k, R, d)$ that minimizes energy use while ensuring temperature constraints are satisfied. The policy uses:\n",
    "  - $x_k$: System states (e.g., indoor temperature).\n",
    "  - $R$: Reference trajectory (temperature bounds over the prediction horizon).\n",
    "  - $d_k$: Disturbances (e.g. Solar radiation)\n",
    "- **Optimization Problem**: Solves a parametric optimization problem to minimize the tracking error and energy use:\n",
    "  $$\n",
    "\\begin{align}\n",
    "&\\underset{\\theta}{\\text{minimize}}     && \\sum_{i=1}^m  \\Big( \\sum_{k=1}^{N-1} Q_x||x^i_k - r^i_k||_2^2  + Q_N||u^i_k||_2^2 \\Big) \\\\\n",
    "&\\text{subject to}    && x^i_{k+1} =  \\text{ODESolve}(f(x^i_k, u^i_k)) \\\\\n",
    "&                     && u^i_k = \\pi_{\\theta}(x^i_k, R^i, d^i_k) \\\\\n",
    "&                     && 0 \\le x^i_k \\le 1 \\\\\n",
    "&                     && 0 \\le u^i_k \\le 1 \\\\\n",
    "&                     && x^i_0 \\sim \\mathcal{P}_{x_0} \\\\\n",
    "&                     && R^i \\sim  \\mathcal{P}_R\n",
    "\\end{align}\n",
    "$$  \n",
    "\n",
    "DPC combines the advantages of model-based optimization with neural network policy flexibility, making it a powerful tool for control tasks like building temperature regulation.\n",
    "- **Schematics of the Differentiable Predictive Control method [[1]](https://www.sciencedirect.com/science/article/pii/S0959152422000981)**:  \n",
    "\n",
    "<p align=\"center\">\n",
    "  <img src=\"https://ars.els-cdn.com/content/image/1-s2.0-S0959152422000981-gr4_lrg.jpg\" width=\"500\">  \n",
    "</p>\n",
    "\n",
    "---\n",
    "\n",
    "\n",
    "## Primal-Dual Deep Deterministic Policy Gradient (PD-DDPG)\n",
    "\n",
    "[PD-DDPG](https://arxiv.org/abs/1802.06480) is a reinforcement learning algorithm designed to handle **Constrained Markov Decision Processes (CMDPs)**. It extends the [Deep Deterministic Policy Gradient (DDPG)](https://arxiv.org/abs/1509.02971) method by incorporating a primal-dual optimization framework to address constraints.\n",
    "PD-DDPG excels in scenarios with hard constraints, such as maintaining temperature within predefined comfort bounds while minimizing energy use. We will explain the mathematical details further during the coding sections of this algorithm.\n",
    "\n",
    "\n",
    "\n",
    "---\n",
    "## Expected Outcomes\n",
    "- A fair comparison of PD-DDPG and DPC for building control tasks.\n",
    "- Recommendations for future improvements in these methods.\n",
    "- Insights into the trade-offs between RL and model-based control approaches.\n",
    "---\n",
    "## References\n",
    "### DPC References\n",
    "[1] [Ján Drgoňa, Karol Kiš, Aaron Tuor, Draguna Vrabie, Martin Klaučo,\n",
    "Differentiable predictive control: Deep learning alternative to explicit model predictive control for unknown nonlinear systems,\n",
    "Journal of Process Control, Volume 116, 2022](https://www.sciencedirect.com/science/article/pii/S0959152422000981)  \n",
    "[2] [Jan Drgona, Aaron Tuor, Draguna Vrabie, Learning Constrained Adaptive Differentiable Predictive Control Policies With Guarantees, 2020, arXiv:2004.11184](https://arxiv.org/abs/2004.11184)  \n",
    "[3] [Ján Drgoňa, Aaron Tuor, Elliott Skomski, Soumya Vasisht, Draguna Vrabie,\n",
    "Deep Learning Explicit Differentiable Predictive Control Laws for Buildings,\n",
    "IFAC-PapersOnLine,\n",
    "Volume 54, Issue 6,\n",
    "2021](https://www.sciencedirect.com/science/article/pii/S2405896321012933)\n",
    "\n",
    "### Related Building Control References\n",
    "[4] [Ján Drgoňa, Javier Arroyo, Iago Cupeiro Figueroa, David Blum, Krzysztof Arendt, Donghun Kim, Enric Perarnau Ollé, Juraj Oravec, Michael Wetter, Draguna L. Vrabie, Lieve Helsen,\n",
    "All you need to know about model predictive control for buildings,\n",
    "Annual Reviews in Control,\n",
    "Volume 50,\n",
    "2020](https://www.sciencedirect.com/science/article/pii/S1367578820300584)  \n",
    "[5] [Ján Drgoňa, Damien Picard, Lieve Helsen,\n",
    "Cloud-based implementation of white-box model predictive control for a GEOTABS office building: A field test demonstration,\n",
    "Journal of Process Control,\n",
    "Volume 88,\n",
    "2020](https://www.sciencedirect.com/science/article/pii/S0959152419306857)  \n",
    "[6] [Zoltan Nagy, Gregor Henze, Sourav Dey, Javier Arroyo, Lieve Helsen, Xiangyu Zhang, Bingqing Chen, Kadir Amasyali, Kuldeep Kurte, Ahmed Zamzam, Helia Zandi, Ján Drgoňa, Matias Quintana, Steven McCullogh, June Young Park, Han Li, Tianzhen Hong, Silvio Brandi, Giuseppe Pinto, Alfonso Capozzoli, Draguna Vrabie, Mario Bergés, Kingsley Nweye, Thibault Marzullo, Andrey Bernstein,\n",
    "Ten questions concerning reinforcement learning for building energy management,\n",
    "Building and Environment,\n",
    "Volume 241,\n",
    "2023](https://www.sciencedirect.com/science/article/abs/pii/S0360132323004626)  \n",
    "[7] [Bingqing Chen, Priya L. Donti, Kyri Baker, J. Zico Kolter, and Mario Bergés. 2021. Enforcing Policy Feasibility Constraints through Differentiable Projection for Energy Optimization. In Proceedings of the Twelfth ACM International Conference on Future Energy Systems (e-Energy '21)](https://dl.acm.org/doi/abs/10.1145/3447555.3464874)  \n",
    "[8] [Jan Široký, Frauke Oldewurtel, Jiří Cigler, Samuel Prívara,\n",
    "Experimental analysis of model predictive control for an energy efficient building heating system,\n",
    "Applied Energy,\n",
    "Volume 88, Issue 9,\n",
    "2011](https://www.sciencedirect.com/science/article/pii/S0306261911001668)\n",
    "\n",
    "\n",
    "### Related Deep Reinforcement Learning References\n",
    "[9] [Liang Q, Que F, Modiano E. Accelerated primal-dual policy optimization for safe reinforcement learning. arXiv preprint arXiv:1802.06480. 2018 Feb 19.](https://arxiv.org/abs/1802.06480)  \n",
    "[10] [Lillicrap TP. Continuous control with deep reinforcement learning. arXiv preprint arXiv:1509.02971. 2015.](https://arxiv.org/abs/1509.02971)\n"
   ]
  },
  {
   "cell_type": "markdown",
   "id": "dc0e32cc4ba6899e",
   "metadata": {},
   "source": [
    "## For Colab only:"
   ]
  },
  {
   "cell_type": "code",
   "id": "ae239d7f551fa153",
   "metadata": {},
   "source": "!pip install neuromancer gym",
   "outputs": [],
   "execution_count": null
  },
  {
   "cell_type": "code",
   "id": "initial_id",
   "metadata": {
    "collapsed": true,
    "jupyter": {
     "outputs_hidden": true
    },
    "ExecuteTime": {
     "end_time": "2025-01-30T06:11:03.767911Z",
     "start_time": "2025-01-30T06:11:02.516522Z"
    }
   },
   "source": [
    "import time\n",
    "import torch\n",
    "import torch.nn as nn\n",
    "import torch.nn.functional as F\n",
    "from datetime import datetime\n",
    "from collections import deque\n",
    "import numpy as np\n",
    "device = torch.device(\"cuda\" if torch.cuda.is_available() else \"cpu\")\n"
   ],
   "outputs": [],
   "execution_count": 1
  },
  {
   "cell_type": "markdown",
   "id": "3f6f9017d538fb69",
   "metadata": {},
   "source": [
    "## Generating Training Data for RL and DPC Controllers\n",
    "\n",
    "The `generate_data()` function simulates the dynamics of a single-zone building, enabling the creation of structured datasets for reinforcement learning (RL) agents and Dynamic Programming Controllers (DPC). The function relies on a **linear state-space model** to approximate the behavior of the building:\n",
    "\n",
    "$$\n",
    "x_{t+1} = A \\, x_t + B \\, u_t + E \\, d_t, \\quad y_t = C \\, x_t,\n",
    "$$\n",
    "\n",
    "where:\n",
    "- **`x_t`**: State vector (e.g., indoor temperature).\n",
    "- **`u_t`**: Control action (bounded by `umin` and `umax`).\n",
    "- **`d_t`**: External disturbances (e.g., outdoor temperature, solar radiation).\n",
    "- **`A`, `B`, `C`, `E`**: System matrices describing the dynamics.\n",
    "\n",
    "---\n",
    "\n",
    "### Steps in `generate_data()`\n",
    "\n",
    "1. **System Initialization**: The `LinearSimpleSingleZone` model is loaded from Neuromancer to extract matrices (`A`, `B`, `C`, `E`) and control bounds (`umin`, `umax`).\n",
    "2. **Helper Function (`create_dataset`)**:\n",
    "   - Generates references (`ymin`, `ymax`) for target temperature ranges.\n",
    "   - Samples disturbance trajectories (`d`) and initial conditions (`x0`).\n",
    "   - Returns a structured `DictDataset` for training or validation.\n",
    "3. **Dataset Creation**:\n",
    "   - `train_data`: Dataset for training, using `ref_range` as the reference offset.\n",
    "   - `dev_data`: Dataset for validation, using the same reference offset.\n",
    "4. **Data Loaders**:\n",
    "   - Converts `train_data` and `dev_data` into PyTorch data loaders for batch processing.\n",
    "5. **Normalization Statistics**:\n",
    "   - Computes mean and standard deviation for features (`x`, `ymin`, `ymax`, `d`) to normalize the data during training.\n",
    "\n",
    "---\n",
    "\n",
    "### Outputs\n",
    "\n",
    "1. **`problem_specs`**: Contains system properties like state dimensions, control bounds, and system matrices.\n",
    "2. **`data_stats`**: Mean and standard deviation for normalization.\n",
    "3. **`data`**: Includes structured `train_data` and `dev_data` datasets.\n",
    "4. **`data_loader`**: PyTorch data loaders for efficient batch access.\n",
    "\n",
    "---\n",
    "\n",
    "### Example\n",
    "\n",
    "```python\n",
    "problem_specs, data_stats, data, data_loader = generate_data(\n",
    "    nsteps=50, n_samples=100, x_min=18.0, x_max=24.0, ref_range=2.0, batch_size=32\n",
    ")\n",
    "```"
   ]
  },
  {
   "cell_type": "code",
   "id": "183f98277d95a984",
   "metadata": {
    "ExecuteTime": {
     "end_time": "2025-01-30T06:11:07.092012Z",
     "start_time": "2025-01-30T06:11:03.773606Z"
    }
   },
   "source": [
    "import neuromancer.psl as psl\n",
    "from neuromancer.dataset import DictDataset\n",
    "import torch\n",
    "\n",
    "def generate_data(nsteps, n_samples, x_min, x_max, ref_range, batch_size):\n",
    "    sys = psl.systems['LinearSimpleSingleZone']()\n",
    "    \n",
    "    # Extract system dynamics and dimensions\n",
    "    A, B, C, E = map(torch.tensor, (sys.params[2]['A'], sys.params[2]['Beta'], sys.params[2]['C'], sys.params[2]['E']))\n",
    "    umin, umax = torch.tensor(sys.umin), torch.tensor(sys.umax)\n",
    "    nx, nu, nd, ny, nref = sys.nx, sys.nu, E.shape[1], sys.ny, sys.ny\n",
    "    \n",
    "    problem_specs = {\n",
    "        \"nx\": nx, \"nu\": nu, \"nd\": nd, \"ny\": ny, \"nref\": nref,\n",
    "        \"umin\": umin, \"umax\": umax, \"A\": A, \"B\": B, \"C\": C, \"E\": E\n",
    "    }\n",
    "\n",
    "    # Helper function to generate dataset\n",
    "    def create_dataset(ref_offset, num_samples, name):\n",
    "        ymin = torch.cat([\n",
    "            x_min + (x_max - x_min) * torch.rand(1, 1) * torch.ones(nsteps, nref)\n",
    "            for _ in range(num_samples)\n",
    "        ]).reshape(num_samples, nsteps, nref)\n",
    "        ymax = ymin + ref_offset\n",
    "        dist = torch.stack([torch.tensor(sys.get_D(nsteps)) for _ in range(num_samples)], dim=0)\n",
    "        x0 = torch.stack([torch.tensor(sys.get_x0().reshape(1, nx)) for _ in range(num_samples)], dim=0)\n",
    "        return DictDataset({'x': x0, 'ymin': ymin, 'ymax': ymax, 'd': dist}, name=name)\n",
    "    \n",
    "    # Generate training and development datasets\n",
    "    train_data = create_dataset(ref_range, n_samples, \"train\")\n",
    "    dev_data = create_dataset(ref_range, n_samples // 10, \"dev\")\n",
    "    \n",
    "    # Data loaders\n",
    "    train_loader = torch.utils.data.DataLoader(train_data, batch_size=batch_size,\n",
    "                                               collate_fn=train_data.collate_fn, shuffle=False)\n",
    "    dev_loader = torch.utils.data.DataLoader(dev_data, batch_size=batch_size,\n",
    "                                             collate_fn=dev_data.collate_fn, shuffle=False)\n",
    "    \n",
    "    # Normalization statistics\n",
    "    all_data = train_data.datadict  # Access the internal data dictionary directly\n",
    "    means = {k: v.mean(dim=[0, 1]) for k, v in all_data.items()}\n",
    "    stds = {k: v.std(dim=[0, 1]) for k, v in all_data.items()}\n",
    "    \n",
    "    data_stats = {\"means\": torch.cat(list(means.values())), \"stds\": torch.cat(list(stds.values()))}\n",
    "    data = {\"train_data\": train_data, \"dev_data\": dev_data}\n",
    "    data_loader = {\"train_loader\": train_loader, \"dev_loader\": dev_loader}\n",
    "    \n",
    "    return problem_specs, data_stats, data, data_loader\n"
   ],
   "outputs": [],
   "execution_count": 2
  },
  {
   "cell_type": "markdown",
   "id": "cf45349df2694a53",
   "metadata": {},
   "source": [
    "## SimpleBuildingEnv: A Custom Gym Environment for Indoor Temperature Control\n",
    "\n",
    "`SimpleBuildingEnv` is a custom reinforcement learning (RL) environment built on [OpenAI Gym](https://www.gymlibrary.dev/index.html) to regulate indoor temperature efficiently. RL works by training an agent to interact with an environment, learn through trial and error, and optimize its actions to maximize rewards over time. Each RL problem is unique, so we define custom environments like this one to capture specific dynamics and constraints.\n",
    "\n",
    "---\n",
    "\n",
    "\n",
    "### RL Terminology:\n",
    "- **Agent**: The decision-maker that takes actions in the environment.\n",
    "- **Environment**: The system the agent interacts with, defined by states, actions, and rewards.\n",
    "- **State**: The current representation of the system (e.g., indoor temperature, disturbances in our case).\n",
    "- **Action**: A decision made by the agent (e.g., adjusting HVAC controls).\n",
    "- **Reward**: Feedback given to the agent for its actions on how well its performing (e.g., penalizing energy usage).\n",
    "- **Cost (in Safe RL)**: Feedback that measures how much the agent's actions violate safety constraints. Unlike rewards, which the agent seeks to maximize, costs are minimized to ensure the agent's behavior adheres to safety or operational limits (e.g., maintaining temperature within comfortable bounds).\n",
    "- **Policy**: The agent’s strategy for selecting actions based on the current state.\n",
    "\n",
    "This environment uses a linear state-space model for building dynamics and leverages the `generate_data()` function to create realistic training datasets for RL agents and controllers.\n",
    "\n",
    "\n",
    "\n",
    "### How RL Works\n",
    "\n",
    "The agent interacts with the environment in a loop:\n",
    "\n",
    "1. **Observation**: The agent observes the current state of the environment (e.g., indoor temperature and external disturbances).\n",
    "2. **Action Selection**: Based on the current state, the agent selects an action (e.g., adjusting HVAC power).\n",
    "3. **Transition**: The environment transitions to a new state based on the action and its internal dynamics.\n",
    "4. **Getting Reward**: The agent receives feedback on its action's effectiveness (e.g., minimizing energy usage while maintaining comfort).\n",
    "5. **Policy Update**: The agent evaluates and improves its decision-making policy using collected rewards.\n",
    "\n",
    "This process is illustrated in the diagram below:\n",
    "\n",
    "\n",
    "<p align=\"center\">\n",
    "  <img src=\"https://miro.medium.com/v2/resize:fit:1400/1*G-_27UjSJpZ7nY19w7OOCg.png\" width=\"500\">\n",
    "</p>\n",
    "\n",
    "\n",
    "\n",
    "---\n",
    "\n",
    "> **Note:** <span>In this tutorial, we use a custom decorator to split class definitions across cells, making the code modular and allowing markdown explanations between methods for clarity. To add methods to a class, apply the custom decorator right before the method definition:</span>\n",
    "\n",
    "```python\n",
    "@add_to_class(ClassName)\n",
    "def method_name(self):\n",
    "    # Method implementation\n",
    "    pass\n",
    "```\n"
   ]
  },
  {
   "metadata": {
    "ExecuteTime": {
     "end_time": "2025-01-30T06:11:07.131863Z",
     "start_time": "2025-01-30T06:11:07.129647Z"
    }
   },
   "cell_type": "code",
   "source": [
    "def add_to_class(cls):\n",
    "    def decorator(func):\n",
    "        setattr(cls, func.__name__, func)\n",
    "        return func\n",
    "    return decorator"
   ],
   "id": "f27b8b894fb175b7",
   "outputs": [],
   "execution_count": 3
  },
  {
   "metadata": {},
   "cell_type": "markdown",
   "source": [
    "## Initialization of SimpleBuildingEnv\n",
    "\n",
    "1. **Inputs**:\n",
    "   - **`problem_specs`**: Defines system-specific properties such as state-space matrices, control input bounds, and dimensions.\n",
    "   - **`train_data`**: Provides sampled data for initial states, disturbances, and reference temperature bounds.\n",
    "   - **`data_stats`**: Contains mean and standard deviation values for normalizing the state observations.\n",
    "\n",
    "2. **Action Space**:\n",
    "   - A single scalar action (e.g., heating or cooling intensity) is defined within the range `[0, 1]`, scaled appropriately using `problem_specs['umax']`.\n",
    "\n",
    "3. **Observation Space**:\n",
    "   - The observation includes the state of the system (`nx`), disturbances (`nd`), and reference temperature bounds (`nref`).\n",
    "   - It is represented as a continuous space with infinite bounds to accommodate varying inputs.\n",
    "\n",
    "\n"
   ],
   "id": "a1a4345d270bb031"
  },
  {
   "cell_type": "code",
   "id": "57b316ce0bdc9f63",
   "metadata": {
    "ExecuteTime": {
     "end_time": "2025-01-30T06:11:07.290244Z",
     "start_time": "2025-01-30T06:11:07.177254Z"
    }
   },
   "source": [
    "import gym\n",
    "from gym import spaces"
   ],
   "outputs": [],
   "execution_count": 4
  },
  {
   "cell_type": "code",
   "id": "729880578dc7afff",
   "metadata": {
    "ExecuteTime": {
     "end_time": "2025-01-30T06:11:07.297893Z",
     "start_time": "2025-01-30T06:11:07.294954Z"
    }
   },
   "source": [
    "class SimpleBuildingEnv(gym.Env):\n",
    "    \"\"\"Custom Environment for controlling the building indoor temperature using reinforcement learning.\"\"\"\n",
    "\n",
    "    def __init__(self, problem_specs, train_data, data_stats):\n",
    "        super().__init__()\n",
    "        \n",
    "        #Get the problem data and data statistics\n",
    "        self.state_means, self.state_stds = data_stats[\"means\"], data_stats[\"stds\"]\n",
    "        self.train_data = train_data\n",
    "        self.problem_specs = problem_specs\n",
    "        self.t = 0      #Initialize the timestep\n",
    "        self.idx = 0    #Initialize the batch index in training data\n",
    "\n",
    "        # Define action space: a single scalar action in [0, 1]\n",
    "        self.action_space = spaces.Box(\n",
    "            low=np.array([0.]),\n",
    "            high=np.array([1.]),\n",
    "            dtype=np.float32,\n",
    "            shape=(self.problem_specs['nu'],)\n",
    "        )\n",
    "\n",
    "        # Define observation space\n",
    "        self.observation_space = spaces.Box(\n",
    "            low=-np.inf,\n",
    "            high=np.inf,\n",
    "            dtype=np.float32,\n",
    "            shape=(\n",
    "                self.problem_specs['nx'] + self.problem_specs['nd'] + self.problem_specs['nref'] * 2,\n",
    "            )\n",
    "        )\n"
   ],
   "outputs": [],
   "execution_count": 5
  },
  {
   "metadata": {},
   "cell_type": "markdown",
   "source": [
    "#### Method: `reset`\n",
    "\n",
    "These methods provide essential functionality for resetting the environment and calculating feedback for the RL agent.\n",
    "\n",
    "The `reset` method initializes the environment at the start of an episode:\n",
    "1. **Initialization**: Selects the sample from `train_data` based on the current index for the initial state, disturbances, and reference bounds.\n",
    "2. **Reset Variables**: Resets the timestep (`t`) to 0 and `done` flag to `False`\n",
    "3. **Build State**: Constructs the normalized initial observation by calling the method `build_state()`.\n",
    "4. **Return**: Provides the initial observation.\n"
   ],
   "id": "192eb8d207efee4e"
  },
  {
   "metadata": {
    "ExecuteTime": {
     "end_time": "2025-01-30T06:11:07.340521Z",
     "start_time": "2025-01-30T06:11:07.337901Z"
    }
   },
   "cell_type": "code",
   "source": [
    "@add_to_class(SimpleBuildingEnv)\n",
    "def reset(self):\n",
    "    self.done = False\n",
    "    self.x = self.train_data[self.idx]['x']\n",
    "    self.y = self.x @ self.problem_specs['C'].T\n",
    "    self.d = self.train_data[self.idx]['d']\n",
    "    self.ymin = self.train_data[self.idx]['ymin']\n",
    "    self.ymax = self.train_data[self.idx]['ymax']\n",
    "    self.t = 0\n",
    "    obs = self.build_state()\n",
    "    return obs"
   ],
   "id": "b742a263776a37ad",
   "outputs": [],
   "execution_count": 6
  },
  {
   "metadata": {},
   "cell_type": "markdown",
   "source": [
    "#### Method: `build_state`\n",
    "\n",
    "The `build_state` method constructs the current state of the environment for the RL agent by combining various components of the system and normalizing them. This method ensures the agent receives a well-structured and scaled observation for training.\n",
    "\n",
    "#### Steps:\n",
    "1. **Combine Observations**:\n",
    "   - The method concatenates the following:\n",
    "     - Current system state (`self.x`)\n",
    "     - Reference temperature bounds (`self.ymin` and `self.ymax`)\n",
    "     - Current disturbance values (`self.d[self.t]`).\n",
    "\n",
    "2. **Normalize the State**:\n",
    "   - The combined observation is normalized using the mean and standard deviation values (`self.state_means`, `self.state_stds`) provided during initialization.\n",
    "\n",
    "To add this method to the `SimpleBuildingEnv` class, we use the decorator `add_to_class(ClassName)` \n"
   ],
   "id": "a14e6558c6a42637"
  },
  {
   "metadata": {
    "ExecuteTime": {
     "end_time": "2025-01-30T06:11:07.386639Z",
     "start_time": "2025-01-30T06:11:07.384204Z"
    }
   },
   "cell_type": "code",
   "source": [
    "@add_to_class(SimpleBuildingEnv)\n",
    "def build_state(self):\n",
    "    combined_obs = torch.concat((self.x.squeeze(dim=0), self.ymin[self.t], self.ymax[self.t], self.d[self.t]))\n",
    "    # # Normalize the state\n",
    "    normalized_obs = (combined_obs - self.state_means) / self.state_stds\n",
    "    \n",
    "    return normalized_obs"
   ],
   "id": "c8e5142b629ce5d1",
   "outputs": [],
   "execution_count": 7
  },
  {
   "metadata": {},
   "cell_type": "markdown",
   "source": [
    "#### Methods `get_reward`, `get_cost`:\n",
    "The `get_reward` method computes the reward for the agent's action which is the energy consumption,  and the `get_cost` method penalizes deviations from the reference bounds (ymin, ymax).\n"
   ],
   "id": "9a4e8ea04bd87308"
  },
  {
   "metadata": {
    "ExecuteTime": {
     "end_time": "2025-01-30T06:11:07.432726Z",
     "start_time": "2025-01-30T06:11:07.430224Z"
    }
   },
   "cell_type": "code",
   "source": [
    "@add_to_class(SimpleBuildingEnv)\n",
    "def get_reward(self, action):\n",
    "    \"\"\"Calculate the reward based on the action.\"\"\"\n",
    "    reward = - (action * 0.01) * self.problem_specs['umax'].numpy()\n",
    "    return reward\n",
    "\n",
    "@add_to_class(SimpleBuildingEnv)\n",
    "def get_cost(self, output):\n",
    "    \"\"\"Calculate the cost based on the output.\"\"\"\n",
    "    cost = (np.maximum(self.ymin[self.t].numpy() - output.numpy(), 0) + np.maximum(output.numpy() - self.ymax[self.t].numpy(), 0)) * 50.0\n",
    "    return cost"
   ],
   "id": "e33182cb39e5a05",
   "outputs": [],
   "execution_count": 8
  },
  {
   "cell_type": "markdown",
   "id": "ccafc05718b4aa99",
   "metadata": {},
   "source": [
    "#### Method: `step`\n",
    "\n",
    "The `step` method updates the environment's state based on the agent's action and calculates feedback for learning.\n",
    "\n",
    "#### Steps:\n",
    "1. **Scale the Action**: Converts the agent's action to the appropriate scale using `umax`.\n",
    "2. **Simulate the Next State**: Updates the state (`x`) and output (`y`) using state-space equations.\n",
    "3. **Calculate Feedback**:\n",
    "   - **Reward**: Energy consumption (`u`).\n",
    "   - **Cost**: Penalizes deviations from desired temperature bounds.\n",
    "4. **Advance Time**: Updates the timestep and handles data resets when the trajectory ends.\n",
    "5. **Return**: Provides the next state, reward, cost, and a `done` flag indicating whether the episode ends or not.\n",
    "\n",
    "> **Note:** <span>This part of the code is for checking if the episode ends or not, and transfering to the next batch of training data:</span>\n",
    "\n",
    "```python\n",
    "if self.t == len(self.train_data[0]['d']):\n",
    "        done = True\n",
    "        self.idx = (self.idx+1)%len(self.train_data)\n",
    "        self.d = self.train_data[self.idx]['d']\n",
    "        self.t = 0\n",
    "```\n",
    "\n",
    "\n"
   ]
  },
  {
   "cell_type": "code",
   "id": "919e986ce7c34b0c",
   "metadata": {
    "ExecuteTime": {
     "end_time": "2025-01-30T06:11:07.484897Z",
     "start_time": "2025-01-30T06:11:07.481599Z"
    }
   },
   "source": [
    "@add_to_class(SimpleBuildingEnv)\n",
    "def step(self, action):\n",
    "    \"\"\"Take a step in the environment by the given action. Returns the next state, reward, cost. \"\"\"\n",
    "    \n",
    "    # Scale the action\n",
    "    scaled_action = torch.tensor(action) * self.problem_specs['umax']\n",
    "    scaled_action = scaled_action.to(torch.float32)\n",
    "\n",
    "    # Simulate the next state\n",
    "    self.x = self.x @ self.problem_specs[\"A\"].T + scaled_action @ self.problem_specs[\"B\"].T + self.d[self.t] @ self.problem_specs[\"E\"].T\n",
    "    self.y = self.x @ self.problem_specs[\"C\"].T\n",
    "\n",
    "    # Calculate reward and cost\n",
    "    reward = self.get_reward(action)\n",
    "    cost = self.get_cost(self.y)\n",
    "    \n",
    "    # update the timestep \n",
    "    self.t += 1\n",
    "    \n",
    "    done = False\n",
    "    \n",
    "    if self.t == len(self.d):\n",
    "        done = True\n",
    "        self.idx = (self.idx+1)%len(self.train_data)\n",
    "        self.d = self.train_data[self.idx]['d']\n",
    "        self.t = 0\n",
    "        \n",
    "    next_obs = self.build_state()\n",
    "    \n",
    "    return next_obs, reward, cost, done\n"
   ],
   "outputs": [],
   "execution_count": 9
  },
  {
   "metadata": {},
   "cell_type": "markdown",
   "source": [
    "#### Method `inference()`:\n",
    "\n",
    "The `inference` method evaluates a trained policy by simulating its performance in the environment for a continuous trajectory and logging key metrics.\n",
    "\n",
    "#### Steps:\n",
    "\n",
    "1. **Initialization**:\n",
    "   - Reset the environment state with `inf_data`.\n",
    "   - Initialize logs for rewards, costs, actions, outputs, and observations.\n",
    "\n",
    "2. **Simulation Loop**:\n",
    "   - Iterate over the length of the disturbance signal.\n",
    "   - Select actions using the policy.\n",
    "   - Step through the environment with `env.step(action)`.\n",
    "   - Store rewards, costs, actions, outputs, and observations.\n",
    "\n",
    "3. **Return Metrics**:\n",
    "   - Outputs a dictionary containing:\n",
    "     - `\"y\"`: System outputs.\n",
    "     - `\"rewards\"`: Reward at each step.\n",
    "     - `\"costs\"`: Constraint violations at each step.\n",
    "     - `\"actions\"`: Actions taken at each step.\n",
    "     - `\"obs_hist\"`: State observations.\n"
   ],
   "id": "dcbfc03439a3b320"
  },
  {
   "metadata": {
    "ExecuteTime": {
     "end_time": "2025-01-30T07:09:42.548546Z",
     "start_time": "2025-01-30T07:09:42.544509Z"
    }
   },
   "cell_type": "code",
   "source": [
    "@add_to_class(SimpleBuildingEnv)\n",
    "def inference(self, inf_data, policy):\n",
    "    \"\"\"\n",
    "    Perform inference using a trained policy on the environment.\n",
    "\n",
    "    Args:\n",
    "        inf_data (dict): Dictionary containing initial conditions and reference data.\n",
    "        policy: Trained agent policy.\n",
    "\n",
    "    Returns:\n",
    "        dict: Contains history of rewards, costs, actions, outputs, and observations.\n",
    "    \"\"\"\n",
    "\n",
    "    # Initialize logs\n",
    "    eval_hist_rewards = []\n",
    "    eval_hist_cost = []\n",
    "    eval_hist_actions = []\n",
    "    eval_hist_outputs = []\n",
    "    eval_hist_ymin = []\n",
    "    eval_hist_ymax = []\n",
    "    obs_hist = []\n",
    "\n",
    "    # Reset environment for inference\n",
    "    self.t = 0\n",
    "    self.x = inf_data['x'].reshape(self.x.shape)\n",
    "    self.y = self.x @ self.problem_specs[\"C\"].T\n",
    "    self.d = inf_data['d'].squeeze(dim=0)\n",
    "    self.ymin = inf_data['ymin'][0]\n",
    "    self.ymax = inf_data['ymax'][0]\n",
    "    obs = self.build_state()\n",
    "\n",
    "    # Log initial conditions\n",
    "    eval_hist_ymin.append(self.ymin)\n",
    "    eval_hist_ymax.append(self.ymax)\n",
    "    eval_hist_outputs.append(self.y)\n",
    "\n",
    "    # Rollout simulation using env.step()\n",
    "    while self.t != len(self.d) - 1:\n",
    "        # Select an action using the policy\n",
    "        action = policy.select_action(obs)\n",
    "\n",
    "        # Take a step in the environment\n",
    "        next_obs, reward, cost, done = self.step(action)\n",
    "\n",
    "        # Log step details\n",
    "        eval_hist_rewards.append(reward)\n",
    "        eval_hist_cost.append(cost)\n",
    "        eval_hist_actions.append(action * self.problem_specs['umax'].numpy())\n",
    "        eval_hist_outputs.append(self.y)\n",
    "        denormalized_obs = next_obs.clone().detach() * self.state_stds + self.state_means\n",
    "        obs_hist.append(denormalized_obs)\n",
    "\n",
    "        # Update the observation\n",
    "        obs = next_obs\n",
    "\n",
    "    # Pack results into a dictionary\n",
    "    outputs = {\n",
    "        \"y\": eval_hist_outputs,\n",
    "        \"rewards\": eval_hist_rewards,\n",
    "        \"costs\": eval_hist_cost,\n",
    "        \"u\": eval_hist_actions,\n",
    "        \"obs_hist\": obs_hist\n",
    "    }\n",
    "    return outputs"
   ],
   "id": "705a538ac6a5de8d",
   "outputs": [],
   "execution_count": 65
  },
  {
   "cell_type": "markdown",
   "id": "78ce3a9c9d319818",
   "metadata": {},
   "source": [
    "### Example on initializing the environment and run simulation:\n",
    "```python\n",
    "#to initialize:\n",
    "env = SimpleBuildingEnv(problem_specs, data[\"train_data\"], data_stats)\n",
    "```\n",
    "\n",
    "In the learning process, the action comes from the policy network, however, `gym` objects have a built-in method for sampling the action space. as an example:\n",
    "```python\n",
    "env.reset()   #resets the environment and returns the initial observation of the agent\n",
    "env.step(env.action_space.sample())   #takes a step forward with a randomly sampled action\n",
    "``` "
   ]
  },
  {
   "metadata": {
    "ExecuteTime": {
     "end_time": "2025-01-30T06:11:07.682904Z",
     "start_time": "2025-01-30T06:11:07.579073Z"
    }
   },
   "cell_type": "code",
   "source": [
    "nsteps=100\n",
    "n_samples=1000\n",
    "x_min=18.0\n",
    "x_max=22.0\n",
    "ref_range=2.0\n",
    "batch_size=100\n",
    "problem_specs, data_stats, data, data_loader = generate_data(nsteps, n_samples, x_min, x_max, ref_range, batch_size)\n"
   ],
   "id": "a528b4e8261fbde5",
   "outputs": [],
   "execution_count": 11
  },
  {
   "metadata": {
    "ExecuteTime": {
     "end_time": "2025-01-30T07:09:48.988461Z",
     "start_time": "2025-01-30T07:09:48.984907Z"
    }
   },
   "cell_type": "code",
   "source": [
    "train_env = SimpleBuildingEnv(problem_specs, data[\"train_data\"], data_stats)\n",
    "dev_env = SimpleBuildingEnv(problem_specs, data[\"dev_data\"], data_stats)"
   ],
   "id": "deb3f21a1ae28ee8",
   "outputs": [],
   "execution_count": 67
  },
  {
   "metadata": {},
   "cell_type": "markdown",
   "source": "",
   "id": "6a037a7261ff2934"
  },
  {
   "metadata": {
    "ExecuteTime": {
     "end_time": "2025-01-30T06:11:07.756457Z",
     "start_time": "2025-01-30T06:11:07.754245Z"
    }
   },
   "cell_type": "code",
   "source": [
    "# obs = train_env.reset()\n",
    "# print(train_env.idx)\n",
    "# while train_env.idx+1  != len(train_env.train_data):\n",
    "#     obs, reward, cost, done  = train_env.step(train_env.action_space.sample())\n",
    "#     if done:\n",
    "#         print(train_env.idx)\n",
    "#         obs = train_env.reset()\n",
    "# \n",
    "# \n"
   ],
   "id": "6f81cffb2a23b96",
   "outputs": [],
   "execution_count": 13
  },
  {
   "cell_type": "markdown",
   "id": "ba692f7bc57d6410",
   "metadata": {},
   "source": [
    "### Class: `ReplayBuffer`\n",
    "\n",
    "The `ReplayBuffer` class is essential for reinforcement learning as it allows the agent to store and reuse past experiences, enabling stable and efficient training. By sampling random batches of transitions, it breaks the correlation between consecutive experiences, improving the training of deep RL algorithms.\n",
    "\n",
    "#### Methods:\n",
    "1. **`__init__(self, max_size=1e6)`**:\n",
    "   - Initializes the buffer with a maximum size using a deque.\n",
    "\n",
    "2. **`add(self, transition)`**:\n",
    "   - Adds a single transition `(state, next_state, action, reward, cost, done)` to the buffer.\n",
    "\n",
    "3. **`sample(self, batch_size)`**:\n",
    "   - Randomly samples a batch of transitions and returns tensors for states, next states, actions, rewards, costs, and done flags.\n",
    "\n",
    "This replay buffer ensures that the RL agent learns effectively from diverse and decorrelated experiences, which is crucial for generalizing to various scenarios.\n",
    "\n",
    "> **Note:** \n",
    "The concept of experience replay for RL agents was first introduced in this paper:\n",
    "*Playing Atari with Deep Reinforcement Learning* by Mnih et al., 2013 ([arXiv:1312.5602](https://arxiv.org/abs/1312.5602))."
   ]
  },
  {
   "cell_type": "code",
   "id": "872ee3d04e2b06c4",
   "metadata": {
    "ExecuteTime": {
     "end_time": "2025-01-30T06:11:07.809743Z",
     "start_time": "2025-01-30T06:11:07.805755Z"
    }
   },
   "source": [
    "class ReplayBuffer:\n",
    "    def __init__(self, max_size=1e6):\n",
    "        \"\"\"\n",
    "        Initialize the replay buffer.\n",
    "\n",
    "        Args:\n",
    "            max_size (int): Maximum number of transitions to store in the buffer.\n",
    "        \"\"\"\n",
    "        self.storage = deque(maxlen=int(max_size))\n",
    "\n",
    "    def add(self, transition):\n",
    "        \"\"\"\n",
    "        Add a transition to the replay buffer.\n",
    "\n",
    "        Args:\n",
    "            transition (tuple): A tuple containing (state, next_state, action, reward, cost).\n",
    "        \"\"\"\n",
    "        self.storage.append(transition)\n",
    "\n",
    "    def sample(self, batch_size):\n",
    "        \"\"\"\n",
    "        Sample a batch of transitions from the replay buffer.\n",
    "\n",
    "        Args:\n",
    "            batch_size (int): Number of transitions to sample.\n",
    "\n",
    "        Returns:\n",
    "            tuple: Batch of (states, next_states, actions, rewards, costs).\n",
    "        \"\"\"\n",
    "        indices = torch.randint(0, len(self.storage), (batch_size,))\n",
    "        batch_states, batch_next_states, batch_actions, batch_rewards, batch_costs, batch_dones = [], [], [], [], [], []\n",
    "\n",
    "        for i in indices:\n",
    "            state, next_state, action, reward, cost, done= self.storage[i]\n",
    "            batch_states.append(state)\n",
    "            batch_next_states.append(next_state)\n",
    "            batch_actions.append(action)\n",
    "            batch_rewards.append(reward)\n",
    "            batch_costs.append(cost)\n",
    "            batch_dones.append(done)\n",
    "\n",
    "        return (\n",
    "            torch.stack(batch_states),\n",
    "            torch.stack(batch_next_states),\n",
    "            torch.stack(batch_actions),\n",
    "            torch.tensor(batch_rewards, dtype=torch.float32).view(-1, 1),\n",
    "            torch.tensor(batch_costs, dtype=torch.float32).view(-1, 1),\n",
    "            torch.tensor(batch_dones, dtype=torch.float32).view(-1, 1),\n",
    "\n",
    "        )\n"
   ],
   "outputs": [],
   "execution_count": 14
  },
  {
   "cell_type": "markdown",
   "id": "1a7a0a150b69cf5a",
   "metadata": {},
   "source": [
    "## Primal-Dual Deep Deterministic Policy Gradient (PD-DDPG)\n",
    "\n",
    "PD-DDPG is a reinforcement learning algorithm tailored for **Constrained Markov Decision Processes (CMDPs)**, where the agent must balance maximizing rewards while satisfying constraints. It builds upon the [Deep Deterministic Policy Gradient (DDPG)](https://arxiv.org/abs/1509.02971) method by introducing a **primal-dual optimization framework** to handle constraints effectively. The algorithm operates in continuous environments, meaning episodes do not have a fixed termination point. A key aspect of this implementation is setting the discount factor ($\\gamma$) for the cost network to 0, focusing on immediate constraint satisfaction, while the reward network retains a positive discount factor to encourage long-term optimization.\n",
    "\n",
    "---\n",
    "\n",
    "### PD-DDPG Framework\n",
    "\n",
    "#### **State Transition Dynamics**\n",
    "The environment is modeled as a Markov Decision Process (MDP) with the dynamics:\n",
    "$$\n",
    "s_{t+1} = f(s_t, a_t) + \\epsilon_t\n",
    "$$\n",
    "where:\n",
    "- $s_t$: State at time $t$ (e.g., temperature and disturbances),\n",
    "- $a_t$: Action taken (e.g., HVAC adjustment),\n",
    "- $f$: State transition function,\n",
    "- $\\epsilon_t$: Noise (in stochastic environments)\n",
    "\n",
    "The agent learns to transition through states to achieve optimal performance while minimizing constraint violations.\n",
    "\n",
    "---\n",
    "\n",
    "#### **Primal-Dual Optimization**\n",
    "The algorithm optimizes the Lagrangian function:\n",
    "$$\n",
    "\\mathcal{L}(\\pi, \\lambda) = \\mathbb{E}_{\\pi} \\left[ r(s_t, a_t) - \\lambda \\cdot c(s_t, a_t) \\right]\n",
    "$$\n",
    "where:\n",
    "- $r(s_t, a_t)$: Reward for energy efficiency or comfort,\n",
    "- $c(s_t, a_t)$: Cost for constraint violations (e.g., exceeding temperature bounds),\n",
    "- $\\lambda$: Dual variable balancing rewards and costs,\n",
    "- $\\pi(a_t | s_t)$: Policy guiding the agent’s actions.\n",
    "\n",
    "This dual approach dynamically adjusts the importance of constraint satisfaction versus reward maximization.\n",
    "\n",
    "---\n",
    "\n",
    "### Networks in PD-DDPG\n",
    "\n",
    "#### Actor Network\n",
    "The **actor network** generates actions based on the current state, aiming to maximize rewards and minimize costs. It outputs continuous actions scaled to the environment's limits (e.g., HVAC adjustments). Smooth action transitions are encouraged by penalizing abrupt changes between consecutive actions.\n",
    "\n",
    "#### Critic Network\n",
    "The **critic network** evaluates the chosen actions by estimating the expected cumulative reward:\n",
    "$$\n",
    "Q(s_t, a_t) = \\mathbb{E} \\left[ r(s_t, a_t) + \\gamma \\cdot Q(s_{t+1}, a_{t+1}) \\right]\n",
    "$$\n",
    "This helps the actor learn which actions lead to higher rewards over time.\n",
    "\n",
    "#### Cost Network\n",
    "The **cost network** directly estimates the immediate cost:\n",
    "$$\n",
    "C(s_t, a_t) = c(s_t, a_t)\n",
    "$$\n",
    "By setting $\\gamma = 0$ for the cost network, the algorithm prioritizes real-time constraint satisfaction.\n",
    "\n"
   ]
  },
  {
   "metadata": {},
   "cell_type": "markdown",
   "source": [
    "### Actor Network\n",
    "\n",
    "The **Actor Network** generates continuous actions for the agent based on the current state. It uses multiple fully connected layers with customizable activation functions and a final output layer (e.g., Sigmoid) to scale actions within a specified range.\n",
    "\n",
    "#### Creating an Actor Object\n",
    "\n",
    "To create an instance of the `Actor` class, specify the dimensions and hidden layers:\n",
    "\n",
    "```python\n",
    "state_dim = 10  # Example state dimension\n",
    "action_dim = 2  # Example action dimension\n",
    "hidden_layers = [64, 64]  # Two hidden layers with 64 neurons each\n",
    "\n",
    "actor = Actor(state_dim, action_dim, hidden_layers)\n",
    "```"
   ],
   "id": "ec9f742e056615e3"
  },
  {
   "metadata": {
    "ExecuteTime": {
     "end_time": "2025-01-30T06:11:07.865381Z",
     "start_time": "2025-01-30T06:11:07.862324Z"
    }
   },
   "cell_type": "code",
   "source": [
    "# Actor Network\n",
    "class Actor(nn.Module):\n",
    "    def __init__(self, state_dim, action_dim, hidden_layers, activation=nn.ReLU, output_activation=nn.Sigmoid):\n",
    "        super(Actor, self).__init__()\n",
    "        layers = []\n",
    "        input_dim = state_dim\n",
    "        for hidden_dim in hidden_layers:\n",
    "            layers.append(nn.Linear(input_dim, hidden_dim))\n",
    "            if activation:\n",
    "                layers.append(activation())\n",
    "            input_dim = hidden_dim\n",
    "        layers.append(nn.Linear(input_dim, action_dim))\n",
    "        if output_activation:\n",
    "            layers.append(output_activation())\n",
    "        self.model = nn.Sequential(*layers)\n",
    "\n",
    "    def forward(self, state):\n",
    "        return self.model(state)\n"
   ],
   "id": "268572e684f58010",
   "outputs": [],
   "execution_count": 15
  },
  {
   "metadata": {},
   "cell_type": "markdown",
   "source": [
    "### Critic or Cost Network\n",
    "\n",
    "The **Critic Network** evaluates the quality of an action in a given state by estimating the Q-value. Similarly, the **Cost Network** shares the same architecture but focuses on estimating the immediate cost associated with an action. Both networks take the concatenated state and action as input, pass them through hidden layers with activation functions, and output a single scalar value (Q-value or C-value).\n",
    "\n",
    "#### Creating a Critic or Cost Network\n",
    "\n",
    "To instantiate either a `Critic` or a `Cost` network, specify the state and action dimensions along with the hidden layers:\n",
    "\n",
    "```python\n",
    "state_dim = 10  # Example state dimension\n",
    "action_dim = 2  # Example action dimension\n",
    "hidden_layers = [128, 128]  # Two hidden layers with 128 neurons each\n",
    "\n",
    "critic_net = Critic(state_dim, action_dim, hidden_layers)\n",
    "cost_net = Critic(state_dim, action_dim, hidden_layers)  # Same architecture for the Cost Network\n",
    "```"
   ],
   "id": "ed5dcc1e107b9145"
  },
  {
   "metadata": {
    "ExecuteTime": {
     "end_time": "2025-01-30T06:11:07.930916Z",
     "start_time": "2025-01-30T06:11:07.928038Z"
    }
   },
   "cell_type": "code",
   "source": [
    "class Critic(nn.Module):\n",
    "    def __init__(self, state_dim, action_dim, hidden_layers, activation=nn.ReLU):\n",
    "\n",
    "        super(Critic, self).__init__()\n",
    "        layers = []\n",
    "        input_dim = state_dim + action_dim\n",
    "\n",
    "        # Create hidden layers with activation functions\n",
    "        for hidden_dim in hidden_layers:\n",
    "            layers.append(nn.Linear(input_dim, hidden_dim))\n",
    "            layers.append(activation())  # Add activation after each layer\n",
    "            input_dim = hidden_dim\n",
    "\n",
    "        # Output layer (no activation here)\n",
    "        layers.append(nn.Linear(input_dim, 1))\n",
    "        self.layers = nn.Sequential(*layers)\n",
    "\n",
    "    def forward(self, state, action):\n",
    "\n",
    "        x = torch.cat([state, action], dim=-1)  # Concatenate state and action\n",
    "        return self.layers(x)"
   ],
   "id": "909fa190ad12433b",
   "outputs": [],
   "execution_count": 16
  },
  {
   "metadata": {},
   "cell_type": "markdown",
   "source": [
    "### PD-DDPG Agent Initialization\n",
    "\n",
    "The **PD-DDPG** class sets up the actor, critic, and cost networks along with their target networks. It initializes the dual variable ($\\lambda$) and handles hyperparameters like learning rates, constraint limits, and network architectures.\n"
   ],
   "id": "c522cbaa8b3dfa7e"
  },
  {
   "metadata": {
    "ExecuteTime": {
     "end_time": "2025-01-30T06:11:07.981460Z",
     "start_time": "2025-01-30T06:11:07.977425Z"
    }
   },
   "cell_type": "code",
   "source": [
    "class PD_DDPG:\n",
    "    def __init__(self, state_dim, action_dim, max_action, lambda_, lambda_step, constraint_limit, lr_critic, lr_actor, hidden_layers):\n",
    "        \"\"\"\n",
    "        Initialize the PD-DDPG agent.\n",
    "\n",
    "        Args:\n",
    "            state_dim (int): Dimension of state space.\n",
    "            action_dim (int): Dimension of state space.\n",
    "            max_action (float): Maximum action value.\n",
    "            lambda_ (float): Initial dual variable for the constraint.\n",
    "            lambda_step (float): Step size for updating lambda.\n",
    "            constraint_limit (float): Constraint tolerance limit.\n",
    "            lr_critic (float): Learning rate for the critic.\n",
    "            lr_actor (float): Learning rate for the actor.\n",
    "            hidden_layers (list): List of integers specifying the number of neurons in each hidden layer.\n",
    "        \"\"\"\n",
    "\n",
    "        # Actor network and optimizer\n",
    "        self.actor = Actor(state_dim, action_dim, hidden_layers).to(device)\n",
    "        self.actor_target = Actor(state_dim, action_dim, hidden_layers).to(device)\n",
    "        self.actor_target.load_state_dict(self.actor.state_dict())\n",
    "        self.actor_optimizer = torch.optim.Adam(self.actor.parameters(), lr=lr_actor)\n",
    "\n",
    "        # Critic network and optimizer\n",
    "        self.critic = Critic(state_dim, action_dim, hidden_layers).to(device)\n",
    "        self.critic_target = Critic(state_dim, action_dim, hidden_layers).to(device)\n",
    "        self.critic_target.load_state_dict(self.critic.state_dict())\n",
    "        self.critic_optimizer = torch.optim.Adam(self.critic.parameters(), lr=lr_critic)\n",
    "\n",
    "        # Cost network and optimizer\n",
    "        self.cost = Critic(state_dim, action_dim, hidden_layers).to(device)\n",
    "        self.cost_target = Critic(state_dim, action_dim, hidden_layers).to(device)\n",
    "        self.cost_target.load_state_dict(self.cost.state_dict())\n",
    "        self.cost_optimizer = torch.optim.Adam(self.cost.parameters(), lr=lr_critic)\n",
    "\n",
    "        # Lambda and constraint\n",
    "        self.lambda_ = torch.tensor([lambda_], requires_grad=False).to(device)\n",
    "        self.lambda_step = lambda_step\n",
    "        self.constraint_limit = constraint_limit\n",
    "\n",
    "        self.max_action = max_action\n"
   ],
   "id": "769242cefa748645",
   "outputs": [],
   "execution_count": 17
  },
  {
   "metadata": {},
   "cell_type": "markdown",
   "source": [
    "### Transition Storage and Action Selection\n",
    "\n",
    "- **`store_transition`**: Normalizes and stores a state-action transition in the replay buffer for training.\n",
    "- **`select_action`**: Uses the actor network to compute and return a clipped action for a given state.\n",
    "\n",
    "> **Note:** <span>To add these methods, we use the decorator `add_to_class(PD-DDPG)`:</span>\n"
   ],
   "id": "7ebec9db8ef25601"
  },
  {
   "metadata": {
    "ExecuteTime": {
     "end_time": "2025-01-30T06:11:08.035587Z",
     "start_time": "2025-01-30T06:11:08.029928Z"
    }
   },
   "cell_type": "code",
   "source": [
    "@add_to_class(PD_DDPG)\n",
    "def store_transition(self, replay_buffer, state, next_state, action, reward, cost, done):\n",
    "    \"\"\"\n",
    "    Normalizing the transition and storing it in the replay buffer.\n",
    "\n",
    "    \"\"\"\n",
    "    # Update the normalizer\n",
    "    state = state.clone().detach().to(torch.float32).to(device)\n",
    "    next_state = next_state.clone().detach().to(torch.float32).to(device)\n",
    "    action = torch.tensor(action, dtype=torch.float32).to(device)\n",
    "    reward = torch.tensor(reward, dtype=torch.float32).to(device)\n",
    "    cost = torch.tensor(cost, dtype=torch.float32).to(device)\n",
    "    done = torch.tensor(done, dtype=torch.float32).to(device)\n",
    "\n",
    "\n",
    "    # Store in the replay buffer\n",
    "    replay_buffer.add((state, next_state, action, reward, cost, done))\n",
    "\n",
    "@add_to_class(PD_DDPG)\n",
    "def select_action(self, state):\n",
    "    \"\"\"\n",
    "    Select an action for a given state.\n",
    "\n",
    "    Args:\n",
    "        state (np.ndarray or list): Current state.\n",
    "\n",
    "    Returns:\n",
    "        np.ndarray: Action.\n",
    "    \"\"\"\n",
    "    # Ensure the state is a tensor\n",
    "    if isinstance(state, list):\n",
    "        state = torch.tensor(state, dtype=torch.float32)\n",
    "    elif isinstance(state, np.ndarray):\n",
    "        state = torch.tensor(state, dtype=torch.float32)\n",
    "\n",
    "    state = state.to(device).unsqueeze(0)  # Add batch dimension\n",
    "    action = self.actor(state).cpu().data.numpy().reshape(1, 1) * self.max_action\n",
    "    return np.clip(action, 0, self.max_action)\n"
   ],
   "id": "1f010109229c0b19",
   "outputs": [],
   "execution_count": 18
  },
  {
   "metadata": {},
   "cell_type": "markdown",
   "source": [
    "### Training PD-DDPG\n",
    "\n",
    "The networks are trained using the following process:\n",
    "\n",
    "1. **Sampling Transitions**: Transitions $(s_t, a_t, r_t, c_t, s_{t+1})$ are sampled from the replay buffer, representing the agent's experiences in the environment.\n",
    "\n",
    "2. **Critic Update**: The critic minimizes the error between the estimated and target Q-values:\n",
    "   $$\n",
    "   \\mathcal{L}_{\\text{critic}} = \\mathbb{E} \\left[ \\left( Q(s_t, a_t) - \\left( r(s_t, a_t) + \\gamma \\cdot Q(s_{t+1}, a_{t+1}) \\right) \\right)^2 \\right]\n",
    "   $$\n",
    "   Here:\n",
    "   - **Target Q-value**: Computed using the **critic target network**, which evaluates the next state ($s_{t+1}$) and next action ($a_{t+1}$).\n",
    "   - **next action ($a_{t+1}$)**: Generated by the **actor target network**, ensuring smoother updates and preventing instability.\n",
    "   - In the code, the loss is implemented as:\n",
    "    ```python\n",
    "    next_action = self.actor_target(next_state)\n",
    "    target_Q = self.critic_target(next_state, next_action)\n",
    "    target_Q = reward + ((1 - done) * discount * target_Q).detach()\n",
    "     \n",
    "    # Update critic\n",
    "    current_Q = self.critic(state, action)\n",
    "    critic_loss = F.mse_loss(current_Q, target_Q)\n",
    "    self.critic_optimizer.zero_grad()\n",
    "    critic_loss.backward()\n",
    "    self.critic_optimizer.step()\n",
    "    ```\n",
    "\n",
    "3. **Cost Update**: The cost network minimizes the error in cost estimation:\n",
    "   $$\n",
    "   \\mathcal{L}_{\\text{cost}} = \\mathbb{E} \\left[ \\left( C(s_t, a_t) - c(s_t, a_t) \\right)^2 \\right]\n",
    "   $$\n",
    "   Similar to the critic, the cost network also uses the **target network** architecture to estimate costs.\n",
    "   - In the code, the loss is implemented as:\n",
    "    ```python\n",
    "    target_C = self.cost_target(next_state, next_action)\n",
    "   #Update cost network\n",
    "    current_C = self.cost(state, action)\n",
    "    cost_loss = F.mse_loss(current_C, target_C)\n",
    "    self.cost_optimizer.zero_grad()\n",
    "    cost_loss.backward()\n",
    "    self.cost_optimizer.step()\n",
    "    ```\n",
    "\n",
    "4. **Actor Update**: The actor is trained to maximize rewards and minimize costs:\n",
    "   $$\n",
    "   \\mathcal{L}_{\\text{actor}} = -\\mathbb{E} \\left[ Q(s_t, a_t) - \\lambda \\cdot C(s_t, a_t) \\right]\n",
    "   $$\n",
    "   - The actor learns by updating actions based on feedback from the critic (rewards) and cost networks (constraints).\n",
    "   - Smooth actions are encouraged by penalizing large changes between consecutive actions:\n",
    "     $$\n",
    "     \\mathcal{L}_{\\text{actor}} += \\beta \\cdot \\| a_t - a_{t+1} \\|^2\n",
    "     $$\n",
    "       - In the code, the loss is implemented as:\n",
    "            ```python\n",
    "            actor_loss = -(Q_value - self.lambda_.detach() * C_value).mean() + nn.MSELoss()(self.actor(state), self.actor_target(next_state))\n",
    "            ```\n",
    "\n",
    "5. **Dual Variable Update**: The dual variable $\\lambda$ is updated dynamically to balance the trade-off between rewards and costs. This ensures the agent adheres to constraints while optimizing its policy:\n",
    "\n",
    "    $$\n",
    "    \\lambda \\leftarrow \\max(0, \\lambda + \\alpha \\cdot (C(s_t, a_t) - d))\n",
    "    $$\n",
    "    \n",
    "    Here:\n",
    "    - **$\\alpha$**: The step size for updating $\\lambda$.\n",
    "    - **$C(s_t, a_t)$**: The immediate cost incurred.\n",
    "    - **$d$**: The acceptable cost threshold.\n",
    "    - code:\n",
    "        ```python\n",
    "       #Update lambda\n",
    "        lambda_gradient = (self.cost(state, self.actor(state)) - (self.constraint_limit)).mean()\n",
    "        self.lambda_ = torch.clamp(self.lambda_ + self.lambda_step * lambda_gradient, min=0).detach()\n",
    "        ```\n",
    "    \n",
    "    When constraints are violated, $\\lambda$ increases to prioritize cost minimization. Conversely, when the policy satisfies constraints, $\\lambda$ decreases.\n",
    "\n",
    "6. **Target Network Soft Updates**: To ensure training stability, the target networks for the critic, cost, and actor are updated using soft updates:\n",
    "    \n",
    "    $$\n",
    "    \\theta_{\\text{target}} \\leftarrow \\tau \\theta_{\\text{online}} + (1 - \\tau) \\theta_{\\text{target}}\n",
    "    $$\n",
    "    \n",
    "    Where:\n",
    "    - **$\\tau \\in [0, 1]$**: The soft update coefficient determining the blending of the target and online network parameters.\n",
    "    \n",
    "    This approach maintains a stable target for training while allowing gradual adaptation to changes in the policy.\n",
    "    - in the code section:  \n",
    "       ```python\n",
    "       # Soft update target networks\n",
    "        for param, target_param in zip(self.actor.parameters(), self.actor_target.parameters()):\n",
    "            target_param.data.copy_(tau * param.data + (1 - tau) * target_param.data)\n",
    "\n",
    "        for param, target_param in zip(self.critic.parameters(), self.critic_target.parameters()):\n",
    "            target_param.data.copy_(tau * param.data + (1 - tau) * target_param.data)\n",
    "\n",
    "        for param, target_param in zip(self.cost.parameters(), self.cost_target.parameters()):\n",
    "            target_param.data.copy_(tau * param.data + (1 - tau) * target_param.data)\n",
    "       ```\n",
    "      \n",
    "\n",
    "#### Inputs to the `train` Function\n",
    "\n",
    "- **`replay_buffer`**: Transitions storage.\n",
    "- **`iterations`**: Number of training steps to perform.\n",
    "- **`batch_size`** *(default: 100)*: Number of transitions sampled from the replay buffer per training step.\n",
    "- **`discount`** *(default: 0.99)*: Discount factor ($\\gamma$) for future rewards in the critic update.\n",
    "- **`tau`** *(default: 0.005)*: Soft update coefficient for target networks.\n",
    "- **`policy_freq`** *(default: 2)*: Frequency of actor and target network updates relative to critic updates.\n",
    "\n"
   ],
   "id": "f9bc30b8276a7d79"
  },
  {
   "cell_type": "code",
   "id": "b3777862817f453d",
   "metadata": {
    "ExecuteTime": {
     "end_time": "2025-01-30T06:11:08.088634Z",
     "start_time": "2025-01-30T06:11:08.082414Z"
    }
   },
   "source": [
    "@add_to_class(PD_DDPG)\n",
    "def train(self, replay_buffer, iterations, batch_size=100, discount=0.99, tau=0.005, policy_freq=2):\n",
    "    \"\"\"\n",
    "    Train the PD-DDPG agent.\n",
    "\n",
    "    Args:\n",
    "        replay_buffer (ReplayBuffer): Replay buffer.\n",
    "        iterations (int): Number of training iterations.\n",
    "        batch_size (int): Batch size.\n",
    "        discount (float): Discount factor.\n",
    "        tau (float): Soft update coefficient.\n",
    "        policy_freq (int): Frequency of policy updates.\n",
    "    \"\"\"\n",
    "    for iteration in range(iterations):\n",
    "        # Sample batch of transitions\n",
    "        (\n",
    "            batch_states,\n",
    "            batch_next_states,\n",
    "            batch_actions,\n",
    "            batch_rewards,\n",
    "            batch_costs,\n",
    "            batch_dones,\n",
    "        ) = replay_buffer.sample(batch_size)\n",
    "\n",
    "        # Convert to tensors\n",
    "        state = batch_states.clone().detach().to(torch.float32).to(device)\n",
    "        next_state = batch_next_states.clone().detach().to(torch.float32).to(device)\n",
    "        action = batch_actions.clone().detach().to(torch.float32).to(device)\n",
    "        reward = batch_rewards.clone().detach().to(torch.float32).to(device)\n",
    "        cost = batch_costs.clone().detach().to(torch.float32).to(device)\n",
    "        done = batch_dones.clone().detach().to(torch.float32).to(device)\n",
    "        \n",
    "        \n",
    "\n",
    "        # Compute target values\n",
    "        next_action = self.actor_target(next_state)\n",
    "        target_Q = reward + (1 - done) * discount * self.critic_target(next_state, next_action).detach()\n",
    "        target_C = cost\n",
    "\n",
    "        # Update critic\n",
    "        current_Q = self.critic(state, action)\n",
    "        critic_loss = F.mse_loss(current_Q, target_Q)\n",
    "        self.critic_optimizer.zero_grad()\n",
    "        critic_loss.backward()\n",
    "        self.critic_optimizer.step()\n",
    "\n",
    "        # Update cost network\n",
    "        current_C = self.cost(state, action)\n",
    "        cost_loss = F.mse_loss(current_C, target_C)\n",
    "        self.cost_optimizer.zero_grad()\n",
    "        cost_loss.backward()\n",
    "        self.cost_optimizer.step()\n",
    "\n",
    "        # Delayed policy updates\n",
    "        if iteration % policy_freq == 0:\n",
    "            # Update actor network\n",
    "            Q_value = self.critic(state, self.actor(state))\n",
    "            C_value = self.cost(state, self.actor(state))\n",
    "            actor_loss = -(\n",
    "                Q_value - self.lambda_.detach() * C_value\n",
    "            ).mean() + F.mse_loss(self.actor(state), self.actor_target(next_state))\n",
    "            self.actor_optimizer.zero_grad()\n",
    "            actor_loss.backward()\n",
    "            self.actor_optimizer.step()\n",
    "\n",
    "            # Soft update target networks\n",
    "            for param, target_param in zip(self.actor.parameters(), self.actor_target.parameters()):\n",
    "                target_param.data.copy_(tau * param.data + (1 - tau) * target_param.data)\n",
    "\n",
    "            for param, target_param in zip(self.critic.parameters(), self.critic_target.parameters()):\n",
    "                target_param.data.copy_(tau * param.data + (1 - tau) * target_param.data)\n",
    "\n",
    "            for param, target_param in zip(self.cost.parameters(), self.cost_target.parameters()):\n",
    "                target_param.data.copy_(tau * param.data + (1 - tau) * target_param.data)\n",
    "\n",
    "            # Update lambda\n",
    "            lambda_gradient = (self.cost(state, self.actor(state)) - self.constraint_limit).mean()\n",
    "            self.lambda_ = torch.clamp(self.lambda_ + self.lambda_step * lambda_gradient, min=0).detach()\n"
   ],
   "outputs": [],
   "execution_count": 19
  },
  {
   "metadata": {},
   "cell_type": "markdown",
   "source": [
    "#### Model Save and Load\n",
    "\n",
    "- **`save`**: Saves the weights of the actor, critic, and cost networks to the specified directory.\n",
    "- **`load`**: Loads the saved weights for the actor, critic, and cost networks from the specified directory.\n"
   ],
   "id": "a3fb0a9d9ccd9252"
  },
  {
   "metadata": {
    "ExecuteTime": {
     "end_time": "2025-01-30T06:11:08.134650Z",
     "start_time": "2025-01-30T06:11:08.131631Z"
    }
   },
   "cell_type": "code",
   "source": [
    "@add_to_class(PD_DDPG)\n",
    "def save(self, filename, directory):\n",
    "    \"\"\"\n",
    "    Save model weights.\n",
    "    \"\"\"\n",
    "    torch.save(self.actor.state_dict(), f'{directory}/{filename}_actor.pth')\n",
    "    torch.save(self.critic.state_dict(), f'{directory}/{filename}_critic.pth')\n",
    "    torch.save(self.cost.state_dict(), f'{directory}/{filename}_cost.pth')\n",
    "\n",
    "@add_to_class(PD_DDPG)\n",
    "def load(self, filename, directory):\n",
    "    \"\"\"\n",
    "    Load model weights.\n",
    "    \"\"\"\n",
    "    device = torch.device('cuda' if torch.cuda.is_available() else 'cpu')\n",
    "    load_path = lambda model_type: torch.load(f'{directory}/{filename}_{model_type}.pth', map_location=device)\n",
    "\n",
    "    self.actor.load_state_dict(load_path('actor'))\n",
    "    self.critic.load_state_dict(load_path('critic'))\n",
    "    self.cost.load_state_dict(load_path('cost'))"
   ],
   "id": "f83d3581dede8688",
   "outputs": [],
   "execution_count": 20
  },
  {
   "metadata": {
    "ExecuteTime": {
     "end_time": "2025-01-30T06:11:08.278941Z",
     "start_time": "2025-01-30T06:11:08.204592Z"
    }
   },
   "cell_type": "code",
   "source": [
    "# Initialize agent parameters\n",
    "\n",
    "lambda_ = 1.  # Initial dual variable\n",
    "lambda_step = 3e-5  # Step size for updating lambda\n",
    "constraint_limit = 0.01 * 50.  # Constraint tolerance limit\n",
    "lr_critic = 1e-3  # Learning rate for the critic network\n",
    "lr_actor = 1e-4  # Learning rate for the actor network\n",
    "hidden_layers = [32, 32]  # Hidden layer dimensions for neural networks\n",
    "iterations = 200  # Number of training iterations\n",
    "policy_freq = 2  # Frequency of policy updates\n",
    "discount = 0.95  # Discount factor for rewards\n",
    "\n",
    "\n",
    "# Define state and action dimensions\n",
    "state_dim = train_env.observation_space.shape[0]  # Environment state dimension\n",
    "action_dim = train_env.action_space.shape[0]  # Environment action dimension\n",
    "max_action = 1.0  # Maximum action value\n",
    "\n",
    "\n",
    "# Initialize agent\n",
    "agent = PD_DDPG(state_dim, action_dim, max_action, lambda_, lambda_step, constraint_limit, lr_critic, lr_actor, hidden_layers)\n",
    "\n"
   ],
   "id": "dd9f9cef8c69f05c",
   "outputs": [],
   "execution_count": 21
  },
  {
   "cell_type": "markdown",
   "id": "a4777ed408714f44",
   "metadata": {},
   "source": [
    "### Evaluating a Policy\n",
    "\n",
    "The `evaluate_policy` function tests a policy by running it across the training dataset of an environment.\n",
    "\n",
    "#### Function Logic:\n",
    "1. **Reset the Environment**: Starts from the initial state.\n",
    "2. **Evaluate Episodes**: For each episode:\n",
    "   - The policy selects an action based on the current observation.\n",
    "   - The environment transitions to the next state, returning the reward, cost, and termination signal.\n",
    "   - Rewards and costs are accumulated.\n",
    "3. **Calculate Averages**: Computes the average reward and cost across all episodes.\n",
    "\n",
    "#### Outputs:\n",
    "- **`avg_reward`**: Average reward over episodes.\n",
    "- **`avg_cost`**: Average cost over episodes.\n"
   ]
  },
  {
   "metadata": {
    "ExecuteTime": {
     "end_time": "2025-01-30T07:03:06.787824Z",
     "start_time": "2025-01-30T07:03:06.783457Z"
    }
   },
   "cell_type": "code",
   "source": [
    "def evaluate_policy(policy, env):\n",
    "    \"\"\"Evaluate the policy on the given environment.\"\"\"\n",
    "    env.idx = 0\n",
    "    total_reward = 0\n",
    "    total_cost = 0\n",
    "    for _ in range(len(env.train_data)):\n",
    "        obs = env.reset()\n",
    "        episode_reward = 0\n",
    "        episode_cost = 0\n",
    "        done = False\n",
    "        while not done:\n",
    "            action = policy.select_action(obs)\n",
    "            next_obs, reward, cost, done = env.step(action)\n",
    "            obs = next_obs\n",
    "            episode_reward += reward\n",
    "            episode_cost += cost\n",
    "        \n",
    "        #print(f\"index: {_}, episode reward: {episode_reward}, episode cost: {episode_cost}\")\n",
    "        total_reward += episode_reward\n",
    "        total_cost += episode_cost\n",
    "    \n",
    "    avg_reward = total_reward/len(env.train_data)\n",
    "    avg_cost = total_cost/len(env.train_data)\n",
    "\n",
    "    return avg_reward.item(), avg_cost.item()"
   ],
   "id": "3fd3215dc8d0e19c",
   "outputs": [],
   "execution_count": 52
  },
  {
   "metadata": {},
   "cell_type": "markdown",
   "source": [
    "### Training Loop Logic Summary\n",
    "\n",
    "The training loop is structured into **exploration**, **training**, and **evaluation** phases, allowing the agent to learn optimal policies while ensuring constraints are respected.\n",
    "\n",
    "---\n",
    "\n",
    "### Inputs\n",
    "\n",
    "- **`env`**: The training environment where the agent interacts and learns.\n",
    "- **`dev_env`**: A validation environment for policy evaluation.\n",
    "- **`agent`**: The reinforcement learning agent implementing the PD-DDPG algorithm.\n",
    "- **`replay_buffer`**: A memory buffer storing past experiences for training.\n",
    "- **`expl_episodes`**: Number of episodes dedicated to pure exploration before training begins.\n",
    "- **`expl_noise`**: Initial exploration noise, which decays over time.\n",
    "- **`batch_size`**: The number of samples drawn from the replay buffer for each training step.\n",
    "- **`num_epochs`**: The number of training iterations over the dataset.\n",
    "- **`iterations`**: Number of gradient updates per training step.\n",
    "- **`discount`**: The discount factor (`γ`), controlling future reward importance.\n",
    "- **`policy_freq`**: Frequency at which the actor network is updated.\n",
    "- **`tolerance`**: Stability threshold for early stopping.\n",
    "- **`eval_every`**: Frequency of policy evaluation during training.\n",
    "\n",
    "---\n",
    "\n",
    "### Key Steps\n",
    "\n",
    "1. **Initialization**:\n",
    "   - Initialize episode counters, evaluation logs, and timing.\n",
    "   - Print the training start time.\n",
    "   - Conduct an **initial policy evaluation** on `dev_env`.\n",
    "\n",
    "2. **Exploration Phase** (if enabled):\n",
    "   - The agent performs **random actions** to explore the environment.\n",
    "   - Experience tuples `(state, next_state, action, reward, cost, done)` are stored in the replay buffer.\n",
    "   - A progress bar tracks the completion of exploration episodes.\n",
    "\n",
    "3. **Training Phase**:\n",
    "   - Iterate over multiple **epochs**, processing all training data:\n",
    "     - Reset the environment and initialize observations.\n",
    "     - Loop through environment interactions:\n",
    "       - The agent selects an action using its policy, with added noise for exploration.\n",
    "       - The action is executed in the environment, and a transition is recorded.\n",
    "       - The replay buffer stores the experience for later training.\n",
    "       - Training occurs when enough samples are available.\n",
    "     - Exploration noise **decays gradually** to shift from exploration to exploitation.\n",
    "\n",
    "4. **Policy Evaluation**:\n",
    "   - Every `eval_every` episodes, the agent is evaluated on `dev_env`.\n",
    "   - Compute average reward, cost, and log the **dual variable (`λ`)**.\n",
    "   - Logs are updated, and early stopping is triggered if performance stabilizes. To check the stability of the agent's policy, we implemented the function `is_stabilized()`.\n",
    "\n",
    "5. **Logging & Early Stopping**:\n",
    "   - Track training progress, including rewards, costs, and policy parameters.\n",
    "   - If the agent's performance stabilizes (reward and cost remain within a tolerance window), **training stops early**.\n",
    "\n",
    "6. **Output**:\n",
    "   - Returns evaluation histories (`eval_reward_hist`, `eval_cost_hist`) for analysis.\n",
    "\n"
   ],
   "id": "aa42dcfae94b4106"
  },
  {
   "cell_type": "code",
   "id": "762b99d8587b86cb",
   "metadata": {
    "ExecuteTime": {
     "end_time": "2025-01-30T06:11:08.341441Z",
     "start_time": "2025-01-30T06:11:08.333698Z"
    }
   },
   "source": [
    "from tqdm import tqdm\n",
    "from datetime import datetime\n",
    "import time\n",
    "\n",
    "def training_loop(env, dev_env, agent, replay_buffer, expl_episodes, expl_noise, batch_size, num_epochs, iterations, discount, policy_freq, tolerance, eval_every):\n",
    "    \"\"\"\n",
    "    Main training loop for the RL agent with early stopping and a single progress bar for the exploration phase.\n",
    "\n",
    "    Args:\n",
    "        env: Training environment.\n",
    "        dev_env: Evaluation (development) environment.\n",
    "        agent: The RL agent being trained.\n",
    "        replay_buffer: Buffer to store transitions for training.\n",
    "        expl_episodes: Number of episodes dedicated to random exploration.\n",
    "        expl_noise: Initial exploration noise for policy-based action selection.\n",
    "        batch_size: Number of samples used per training batch.\n",
    "        num_epochs: Total number of epochs for training.\n",
    "        iterations: Number of gradient update steps during training.\n",
    "        discount: Discount factor for future rewards.\n",
    "        policy_freq: Frequency of policy updates relative to critic updates.\n",
    "        tolerance: Stabilization tolerance for early stopping.\n",
    "        eval_every: Number of episodes between evaluations.\n",
    "\n",
    "    Returns:\n",
    "        eval_reward_hist: History of evaluation rewards.\n",
    "        eval_cost_hist: History of evaluation costs.\n",
    "    \"\"\"\n",
    "\n",
    "    # Initialize counters and evaluation history\n",
    "    episode, epoch, eval_time = 0, 0, 0\n",
    "    eval_reward_hist, eval_cost_hist = [], []\n",
    "    start_time = time.time()\n",
    "    print(f\"\\n========== Training Started at {datetime.now().strftime('%Y-%m-%d %H:%M:%S')} ==========\")\n",
    "    \n",
    "    # Evaluate the policy before training begins\n",
    "    eval_reward, eval_cost = evaluate_policy(agent, dev_env)\n",
    "    print(f\"\\n[EVALUATION] Episode {episode} | Reward: {eval_reward} | Cost: {eval_cost} | Lambda: {agent.lambda_.item():.4f} | Noise: {expl_noise:.2f}\")\n",
    "    \n",
    "    # Exploration Phase: Agent performs random actions to populate replay buffer\n",
    "    if expl_episodes > 0:\n",
    "        with tqdm(total=expl_episodes, desc=\"Exploration Phase\", leave=True) as expl_pbar:\n",
    "            while episode < expl_episodes:\n",
    "                done, obs = False, env.reset()  # Reset the environment at the start of each episode\n",
    "                while not done:\n",
    "                    # Take a random action from the action space\n",
    "                    action = env.action_space.sample().reshape(1, 1)\n",
    "                    # Step through the environment\n",
    "                    next_obs, reward, cost, done = env.step(action)\n",
    "                    # Store transition in the replay buffer\n",
    "                    agent.store_transition(replay_buffer, obs, next_obs, action.reshape(1,), reward, cost, done)\n",
    "                    obs = next_obs  # Update observation for the next step\n",
    "                episode += 1  # Increment episode count\n",
    "                expl_pbar.update(1)  # Update exploration progress bar\n",
    "\n",
    "    # Training Phase: Agent trains using stored transitions in the replay buffer\n",
    "    while epoch < num_epochs:\n",
    "        for idx in range(len(env.train_data)):\n",
    "\n",
    "            # Perform policy evaluation at regular intervals\n",
    "            if episode % eval_every == 0:\n",
    "                start_eval = time.time()\n",
    "                eval_reward, eval_cost = evaluate_policy(agent, dev_env)  # Evaluate on dev environment\n",
    "                eval_time += time.time() - start_eval\n",
    "                eval_reward_hist.append(eval_reward)\n",
    "                eval_cost_hist.append(eval_cost)\n",
    "                print(\"-------------------------------------------------\")\n",
    "                print(f\"\\n[EVALUATION on DEV DATA] at Episode {episode} | Avg. Reward: {eval_reward} | Avg. Cost: {eval_cost} | Lambda: {agent.lambda_.item():.4f} | Expl Noise: {expl_noise:.2f}\")\n",
    "                print(\"-------------------------------------------------\")\n",
    "\n",
    "                # Early stopping if metrics stabilize\n",
    "                if len(eval_cost_hist) > 5 and is_stabilized(eval_cost_hist, eval_reward_hist, tolerance=tolerance, window_size=5):\n",
    "                    print(\"****  Early stopping triggered. Training stabilized.  ****\")\n",
    "                    return _log_training_times(start_time, eval_time, eval_reward_hist, eval_cost_hist)\n",
    "\n",
    "            # Progress bar for training episodes\n",
    "            with tqdm(total=eval_every, desc=f\"Training --- Episodes {episode}-{episode+eval_every-1}\", leave=True) as pbar:\n",
    "                for _ in range(eval_every):\n",
    "                    done, obs = False, env.reset()  # Reset environment at start of each episode\n",
    "                    while not done:\n",
    "                        # Select action with exploration noise\n",
    "                        action = (\n",
    "                            agent.select_action(obs) + \n",
    "                            np.random.normal(0, expl_noise, size=env.action_space.shape[0])\n",
    "                        ).clip(env.action_space.low, env.action_space.high)\n",
    "                        # Step in the environment and collect transition\n",
    "                        next_obs, reward, cost, done = env.step(action)\n",
    "                        agent.store_transition(replay_buffer, obs, next_obs, action.reshape(1,), reward, cost, done)\n",
    "                        obs = next_obs  # Update observation\n",
    "\n",
    "                    # Train the agent when the replay buffer has enough data\n",
    "                    if len(replay_buffer.storage) > batch_size:\n",
    "                        agent.train(replay_buffer, iterations, batch_size, discount, policy_freq)\n",
    "\n",
    "                    # Decay exploration noise after each episode\n",
    "                    expl_noise = max(0.1, expl_noise * 0.995)\n",
    "                    episode += 1  # Increment episode count\n",
    "                    pbar.update(1)  # Update training progress bar\n",
    "\n",
    "        print(f\"Epoch {epoch} completed. Episodes: {episode}.\")\n",
    "        epoch += 1  # Increment epoch count\n",
    "\n",
    "    # Log training times and return evaluation history\n",
    "    return _log_training_times(start_time, eval_time, eval_reward_hist, eval_cost_hist)\n",
    "\n",
    "def _log_training_times(start_time, eval_time, eval_reward_hist, eval_cost_hist):\n",
    "    \"\"\"\n",
    "    Log total and pure training times.\n",
    "\n",
    "    Args:\n",
    "        start_time (float): Start time of the training.\n",
    "        eval_time (float): Total time spent on evaluation.\n",
    "        eval_reward_hist (list): History of evaluation rewards.\n",
    "        eval_cost_hist (list): History of evaluation costs.\n",
    "\n",
    "    Returns:\n",
    "        tuple: History of rewards and costs.\n",
    "    \"\"\"\n",
    "    total_time = time.time() - start_time\n",
    "    print(\"\\n========== Training Completed ==========\\n\")\n",
    "    print(f\"Total Time: {total_time:.2f}s | Pure Training Time: {total_time - eval_time:.2f}s | Eval Time: {eval_time:.2f}s\")\n",
    "    return eval_reward_hist, eval_cost_hist\n"
   ],
   "outputs": [],
   "execution_count": 23
  },
  {
   "metadata": {},
   "cell_type": "markdown",
   "source": [
    "### Stabilization Check for Early Stopping\n",
    "\n",
    "The `is_stabilized` function determines if training has **converged** by monitoring reward and cost fluctuations over recent iterations. This prevents unnecessary training.\n",
    "\n",
    "---\n",
    "\n",
    "### Inputs\n",
    "- **`eval_rewards`**, **`eval_costs`**: Lists or tensors of historical evaluations.\n",
    "- **`tolerance`**: Maximum allowed change for stability (default: `10`).\n",
    "- **`window_size`**: Number of recent evaluations to compare (default: `5`).\n",
    "\n",
    "---\n",
    "\n",
    "### Key Steps\n",
    "1. **Convert to NumPy** (if input is a tensor).\n",
    "2. **Check Data Availability** (requires at least `2 * window_size` samples).\n",
    "3. **Compute Moving Averages** for rewards and costs over the last `window_size` evaluations.\n",
    "4. **Assess Stability** by comparing recent and previous averages:\n",
    "   - If both **reward and cost fluctuations** are within `tolerance`, training is considered stable.\n",
    "\n",
    "---\n",
    "\n",
    "### Output\n",
    "- **`True`** → Training has stabilized, early stopping is recommended.\n",
    "- **`False`** → Further training is needed.\n",
    "\n",
    "This function ensures training halts **efficiently** once performance stabilizes.\n"
   ],
   "id": "10a2ba7752227611"
  },
  {
   "metadata": {
    "ExecuteTime": {
     "end_time": "2025-01-30T06:11:08.389378Z",
     "start_time": "2025-01-30T06:11:08.385793Z"
    }
   },
   "cell_type": "code",
   "source": [
    "import numpy as np\n",
    "\n",
    "def is_stabilized(eval_rewards, eval_costs, tolerance=10, window_size=5):\n",
    "    \"\"\"\n",
    "    Check if evaluation metrics (rewards and costs) have stabilized.\n",
    "\n",
    "    Args:\n",
    "        eval_rewards (list or tensor): History of reward evaluations.\n",
    "        eval_costs (list or tensor): History of cost evaluations.\n",
    "        tolerance (float): Maximum allowed difference for stabilization.\n",
    "        window_size (int): Number of recent evaluations to consider.\n",
    "\n",
    "    Returns:\n",
    "        bool: True if stabilized, False otherwise.\n",
    "    \"\"\"\n",
    "    # Convert inputs to NumPy arrays if they're tensors\n",
    "    eval_rewards = np.array(eval_rewards) if isinstance(eval_rewards, (list, np.ndarray)) else eval_rewards.cpu().numpy()\n",
    "    eval_costs = np.array(eval_costs) if isinstance(eval_costs, (list, np.ndarray)) else eval_costs.cpu().numpy()\n",
    "    \n",
    "    # Ensure there are enough evaluations for comparison\n",
    "    if len(eval_rewards) < 2 * window_size or len(eval_costs) < 2 * window_size:\n",
    "        return False\n",
    "\n",
    "    # Calculate recent and previous averages for rewards and costs\n",
    "    recent_avg_rewards = np.mean(eval_rewards[-window_size:])\n",
    "    previous_avg_rewards = np.mean(eval_rewards[-2 * window_size:-window_size])\n",
    "    recent_avg_costs = np.mean(eval_costs[-window_size:])\n",
    "    previous_avg_costs = np.mean(eval_costs[-2 * window_size:-window_size])\n",
    "\n",
    "    # Check if differences are within the tolerance\n",
    "    reward_stable = abs(recent_avg_rewards - previous_avg_rewards) <= tolerance\n",
    "    cost_stable = abs(recent_avg_costs - previous_avg_costs) <= tolerance\n",
    "\n",
    "    return reward_stable and cost_stable"
   ],
   "id": "ad09e0844e87899c",
   "outputs": [],
   "execution_count": 24
  },
  {
   "cell_type": "markdown",
   "id": "6ea083afe77edd1f",
   "metadata": {},
   "source": "### Training the RL agent"
  },
  {
   "metadata": {
    "ExecuteTime": {
     "end_time": "2025-01-30T06:11:08.441646Z",
     "start_time": "2025-01-30T06:11:08.439393Z"
    }
   },
   "cell_type": "code",
   "source": [
    "#initialize replay buffer\n",
    "replay_buffer = ReplayBuffer(1e6)\n",
    "\n",
    "# Initialize training loop parameters\n",
    "num_epochs = 5         #Number of epochs\n",
    "expl_episodes = 200     #Number of exploration episodes\n",
    "batch_size = 128        #Batch size for training the agent\n",
    "expl_noise = 0.3        #initial exploration noise\n",
    "tolerance=5\n",
    "eval_every=10"
   ],
   "id": "9767e807c76a942b",
   "outputs": [],
   "execution_count": 25
  },
  {
   "cell_type": "code",
   "id": "432cf73b5dd9efa",
   "metadata": {
    "ExecuteTime": {
     "end_time": "2025-01-30T06:19:30.948888Z",
     "start_time": "2025-01-30T06:11:08.519649Z"
    }
   },
   "source": [
    "#starting training process:\n",
    "eval_reward_hist, eval_cost_hist = training_loop(train_env, dev_env, agent,\n",
    "                                                 replay_buffer, expl_episodes,\n",
    "                                                 expl_noise, batch_size, num_epochs,\n",
    "                                                 iterations, discount, policy_freq,\n",
    "                                                 tolerance,eval_every)\n"
   ],
   "outputs": [
    {
     "name": "stdout",
     "output_type": "stream",
     "text": [
      "\n",
      "========== Training Started at 2025-01-30 01:11:08 ==========\n",
      "\n",
      "[EVALUATION] Episode 0 | Reward: [[-2230.1714]] | Cost: [[3362.9646]] | Lambda: 1.0000 | Noise: 0.30\n"
     ]
    },
    {
     "name": "stderr",
     "output_type": "stream",
     "text": [
      "Exploration Phase: 100%|██████████| 200/200 [00:04<00:00, 42.02it/s]\n"
     ]
    },
    {
     "name": "stdout",
     "output_type": "stream",
     "text": [
      "-------------------------------------------------\n",
      "\n",
      "[EVALUATION on DEV DATA] at Episode 200 | Avg. Reward: [[-2230.1714]] | Avg. Cost: [[3362.9646]] | Lambda: 1.0000 | Expl Noise: 0.30\n",
      "-------------------------------------------------\n"
     ]
    },
    {
     "name": "stderr",
     "output_type": "stream",
     "text": [
      "Training --- Episodes 200-209: 100%|██████████| 10/10 [00:13<00:00,  1.34s/it]\n"
     ]
    },
    {
     "name": "stdout",
     "output_type": "stream",
     "text": [
      "-------------------------------------------------\n",
      "\n",
      "[EVALUATION on DEV DATA] at Episode 210 | Avg. Reward: [[-285.82962]] | Avg. Cost: [[3260.3525]] | Lambda: 1.7815 | Expl Noise: 0.29\n",
      "-------------------------------------------------\n"
     ]
    },
    {
     "name": "stderr",
     "output_type": "stream",
     "text": [
      "Training --- Episodes 210-219: 100%|██████████| 10/10 [00:12<00:00,  1.28s/it]\n"
     ]
    },
    {
     "name": "stdout",
     "output_type": "stream",
     "text": [
      "-------------------------------------------------\n",
      "\n",
      "[EVALUATION on DEV DATA] at Episode 220 | Avg. Reward: [[-1378.5099]] | Avg. Cost: [[288.27216]] | Lambda: 2.2688 | Expl Noise: 0.27\n",
      "-------------------------------------------------\n"
     ]
    },
    {
     "name": "stderr",
     "output_type": "stream",
     "text": [
      "Training --- Episodes 220-229: 100%|██████████| 10/10 [00:13<00:00,  1.31s/it]\n"
     ]
    },
    {
     "name": "stdout",
     "output_type": "stream",
     "text": [
      "-------------------------------------------------\n",
      "\n",
      "[EVALUATION on DEV DATA] at Episode 230 | Avg. Reward: [[-1131.4901]] | Avg. Cost: [[279.5509]] | Lambda: 2.5941 | Expl Noise: 0.26\n",
      "-------------------------------------------------\n"
     ]
    },
    {
     "name": "stderr",
     "output_type": "stream",
     "text": [
      "Training --- Episodes 230-239: 100%|██████████| 10/10 [00:13<00:00,  1.34s/it]\n"
     ]
    },
    {
     "name": "stdout",
     "output_type": "stream",
     "text": [
      "-------------------------------------------------\n",
      "\n",
      "[EVALUATION on DEV DATA] at Episode 240 | Avg. Reward: [[-1058.6108]] | Avg. Cost: [[283.50888]] | Lambda: 2.9300 | Expl Noise: 0.25\n",
      "-------------------------------------------------\n"
     ]
    },
    {
     "name": "stderr",
     "output_type": "stream",
     "text": [
      "Training --- Episodes 240-249: 100%|██████████| 10/10 [00:12<00:00,  1.24s/it]\n"
     ]
    },
    {
     "name": "stdout",
     "output_type": "stream",
     "text": [
      "-------------------------------------------------\n",
      "\n",
      "[EVALUATION on DEV DATA] at Episode 250 | Avg. Reward: [[-1028.5621]] | Avg. Cost: [[284.86346]] | Lambda: 3.2568 | Expl Noise: 0.23\n",
      "-------------------------------------------------\n"
     ]
    },
    {
     "name": "stderr",
     "output_type": "stream",
     "text": [
      "Training --- Episodes 250-259: 100%|██████████| 10/10 [00:12<00:00,  1.28s/it]\n"
     ]
    },
    {
     "name": "stdout",
     "output_type": "stream",
     "text": [
      "-------------------------------------------------\n",
      "\n",
      "[EVALUATION on DEV DATA] at Episode 260 | Avg. Reward: [[-1023.6339]] | Avg. Cost: [[281.22662]] | Lambda: 3.5743 | Expl Noise: 0.22\n",
      "-------------------------------------------------\n"
     ]
    },
    {
     "name": "stderr",
     "output_type": "stream",
     "text": [
      "Training --- Episodes 260-269: 100%|██████████| 10/10 [00:12<00:00,  1.26s/it]\n"
     ]
    },
    {
     "name": "stdout",
     "output_type": "stream",
     "text": [
      "-------------------------------------------------\n",
      "\n",
      "[EVALUATION on DEV DATA] at Episode 270 | Avg. Reward: [[-1017.3179]] | Avg. Cost: [[278.52048]] | Lambda: 3.8886 | Expl Noise: 0.21\n",
      "-------------------------------------------------\n"
     ]
    },
    {
     "name": "stderr",
     "output_type": "stream",
     "text": [
      "Training --- Episodes 270-279: 100%|██████████| 10/10 [00:12<00:00,  1.25s/it]\n"
     ]
    },
    {
     "name": "stdout",
     "output_type": "stream",
     "text": [
      "-------------------------------------------------\n",
      "\n",
      "[EVALUATION on DEV DATA] at Episode 280 | Avg. Reward: [[-1011.1499]] | Avg. Cost: [[276.39447]] | Lambda: 4.1963 | Expl Noise: 0.20\n",
      "-------------------------------------------------\n"
     ]
    },
    {
     "name": "stderr",
     "output_type": "stream",
     "text": [
      "Training --- Episodes 280-289: 100%|██████████| 10/10 [00:12<00:00,  1.27s/it]\n"
     ]
    },
    {
     "name": "stdout",
     "output_type": "stream",
     "text": [
      "-------------------------------------------------\n",
      "\n",
      "[EVALUATION on DEV DATA] at Episode 290 | Avg. Reward: [[-1005.8362]] | Avg. Cost: [[275.51868]] | Lambda: 4.4979 | Expl Noise: 0.19\n",
      "-------------------------------------------------\n"
     ]
    },
    {
     "name": "stderr",
     "output_type": "stream",
     "text": [
      "Training --- Episodes 290-299: 100%|██████████| 10/10 [00:15<00:00,  1.54s/it]\n"
     ]
    },
    {
     "name": "stdout",
     "output_type": "stream",
     "text": [
      "-------------------------------------------------\n",
      "\n",
      "[EVALUATION on DEV DATA] at Episode 300 | Avg. Reward: [[-1003.534]] | Avg. Cost: [[273.81665]] | Lambda: 4.7952 | Expl Noise: 0.18\n",
      "-------------------------------------------------\n"
     ]
    },
    {
     "name": "stderr",
     "output_type": "stream",
     "text": [
      "Training --- Episodes 300-309: 100%|██████████| 10/10 [00:14<00:00,  1.49s/it]\n"
     ]
    },
    {
     "name": "stdout",
     "output_type": "stream",
     "text": [
      "-------------------------------------------------\n",
      "\n",
      "[EVALUATION on DEV DATA] at Episode 310 | Avg. Reward: [[-997.9277]] | Avg. Cost: [[274.26065]] | Lambda: 5.0836 | Expl Noise: 0.17\n",
      "-------------------------------------------------\n"
     ]
    },
    {
     "name": "stderr",
     "output_type": "stream",
     "text": [
      "Training --- Episodes 310-319: 100%|██████████| 10/10 [00:13<00:00,  1.37s/it]\n"
     ]
    },
    {
     "name": "stdout",
     "output_type": "stream",
     "text": [
      "-------------------------------------------------\n",
      "\n",
      "[EVALUATION on DEV DATA] at Episode 320 | Avg. Reward: [[-989.96985]] | Avg. Cost: [[275.64594]] | Lambda: 5.3653 | Expl Noise: 0.16\n",
      "-------------------------------------------------\n"
     ]
    },
    {
     "name": "stderr",
     "output_type": "stream",
     "text": [
      "Training --- Episodes 320-329: 100%|██████████| 10/10 [00:13<00:00,  1.38s/it]\n"
     ]
    },
    {
     "name": "stdout",
     "output_type": "stream",
     "text": [
      "-------------------------------------------------\n",
      "\n",
      "[EVALUATION on DEV DATA] at Episode 330 | Avg. Reward: [[-993.1295]] | Avg. Cost: [[272.12512]] | Lambda: 5.6436 | Expl Noise: 0.16\n",
      "-------------------------------------------------\n"
     ]
    },
    {
     "name": "stderr",
     "output_type": "stream",
     "text": [
      "Training --- Episodes 330-339: 100%|██████████| 10/10 [00:13<00:00,  1.33s/it]\n"
     ]
    },
    {
     "name": "stdout",
     "output_type": "stream",
     "text": [
      "-------------------------------------------------\n",
      "\n",
      "[EVALUATION on DEV DATA] at Episode 340 | Avg. Reward: [[-989.0114]] | Avg. Cost: [[271.33737]] | Lambda: 5.9248 | Expl Noise: 0.15\n",
      "-------------------------------------------------\n"
     ]
    },
    {
     "name": "stderr",
     "output_type": "stream",
     "text": [
      "Training --- Episodes 340-349: 100%|██████████| 10/10 [00:13<00:00,  1.34s/it]\n"
     ]
    },
    {
     "name": "stdout",
     "output_type": "stream",
     "text": [
      "-------------------------------------------------\n",
      "\n",
      "[EVALUATION on DEV DATA] at Episode 350 | Avg. Reward: [[-984.5516]] | Avg. Cost: [[272.1859]] | Lambda: 6.1900 | Expl Noise: 0.14\n",
      "-------------------------------------------------\n"
     ]
    },
    {
     "name": "stderr",
     "output_type": "stream",
     "text": [
      "Training --- Episodes 350-359: 100%|██████████| 10/10 [00:13<00:00,  1.39s/it]\n"
     ]
    },
    {
     "name": "stdout",
     "output_type": "stream",
     "text": [
      "-------------------------------------------------\n",
      "\n",
      "[EVALUATION on DEV DATA] at Episode 360 | Avg. Reward: [[-978.08234]] | Avg. Cost: [[273.9377]] | Lambda: 6.4550 | Expl Noise: 0.13\n",
      "-------------------------------------------------\n"
     ]
    },
    {
     "name": "stderr",
     "output_type": "stream",
     "text": [
      "Training --- Episodes 360-369: 100%|██████████| 10/10 [00:14<00:00,  1.48s/it]\n"
     ]
    },
    {
     "name": "stdout",
     "output_type": "stream",
     "text": [
      "-------------------------------------------------\n",
      "\n",
      "[EVALUATION on DEV DATA] at Episode 370 | Avg. Reward: [[-978.4239]] | Avg. Cost: [[272.25153]] | Lambda: 6.7175 | Expl Noise: 0.13\n",
      "-------------------------------------------------\n"
     ]
    },
    {
     "name": "stderr",
     "output_type": "stream",
     "text": [
      "Training --- Episodes 370-379: 100%|██████████| 10/10 [00:13<00:00,  1.31s/it]\n"
     ]
    },
    {
     "name": "stdout",
     "output_type": "stream",
     "text": [
      "-------------------------------------------------\n",
      "\n",
      "[EVALUATION on DEV DATA] at Episode 380 | Avg. Reward: [[-973.5876]] | Avg. Cost: [[272.97995]] | Lambda: 6.9742 | Expl Noise: 0.12\n",
      "-------------------------------------------------\n"
     ]
    },
    {
     "name": "stderr",
     "output_type": "stream",
     "text": [
      "Training --- Episodes 380-389: 100%|██████████| 10/10 [00:13<00:00,  1.37s/it]\n"
     ]
    },
    {
     "name": "stdout",
     "output_type": "stream",
     "text": [
      "-------------------------------------------------\n",
      "\n",
      "[EVALUATION on DEV DATA] at Episode 390 | Avg. Reward: [[-976.09485]] | Avg. Cost: [[270.4918]] | Lambda: 7.2331 | Expl Noise: 0.12\n",
      "-------------------------------------------------\n"
     ]
    },
    {
     "name": "stderr",
     "output_type": "stream",
     "text": [
      "Training --- Episodes 390-399: 100%|██████████| 10/10 [00:13<00:00,  1.33s/it]\n"
     ]
    },
    {
     "name": "stdout",
     "output_type": "stream",
     "text": [
      "-------------------------------------------------\n",
      "\n",
      "[EVALUATION on DEV DATA] at Episode 400 | Avg. Reward: [[-971.92163]] | Avg. Cost: [[270.6444]] | Lambda: 7.4841 | Expl Noise: 0.11\n",
      "-------------------------------------------------\n"
     ]
    },
    {
     "name": "stderr",
     "output_type": "stream",
     "text": [
      "Training --- Episodes 400-409: 100%|██████████| 10/10 [00:12<00:00,  1.30s/it]\n"
     ]
    },
    {
     "name": "stdout",
     "output_type": "stream",
     "text": [
      "-------------------------------------------------\n",
      "\n",
      "[EVALUATION on DEV DATA] at Episode 410 | Avg. Reward: [[-969.50287]] | Avg. Cost: [[270.43143]] | Lambda: 7.7342 | Expl Noise: 0.10\n",
      "-------------------------------------------------\n"
     ]
    },
    {
     "name": "stderr",
     "output_type": "stream",
     "text": [
      "Training --- Episodes 410-419: 100%|██████████| 10/10 [00:13<00:00,  1.37s/it]\n"
     ]
    },
    {
     "name": "stdout",
     "output_type": "stream",
     "text": [
      "-------------------------------------------------\n",
      "\n",
      "[EVALUATION on DEV DATA] at Episode 420 | Avg. Reward: [[-966.26135]] | Avg. Cost: [[270.63138]] | Lambda: 7.9802 | Expl Noise: 0.10\n",
      "-------------------------------------------------\n"
     ]
    },
    {
     "name": "stderr",
     "output_type": "stream",
     "text": [
      "Training --- Episodes 420-429: 100%|██████████| 10/10 [00:14<00:00,  1.41s/it]\n"
     ]
    },
    {
     "name": "stdout",
     "output_type": "stream",
     "text": [
      "-------------------------------------------------\n",
      "\n",
      "[EVALUATION on DEV DATA] at Episode 430 | Avg. Reward: [[-966.54126]] | Avg. Cost: [[269.61624]] | Lambda: 8.2210 | Expl Noise: 0.10\n",
      "-------------------------------------------------\n"
     ]
    },
    {
     "name": "stderr",
     "output_type": "stream",
     "text": [
      "Training --- Episodes 430-439: 100%|██████████| 10/10 [00:13<00:00,  1.38s/it]\n"
     ]
    },
    {
     "name": "stdout",
     "output_type": "stream",
     "text": [
      "-------------------------------------------------\n",
      "\n",
      "[EVALUATION on DEV DATA] at Episode 440 | Avg. Reward: [[-964.23]] | Avg. Cost: [[269.88058]] | Lambda: 8.4603 | Expl Noise: 0.10\n",
      "-------------------------------------------------\n"
     ]
    },
    {
     "name": "stderr",
     "output_type": "stream",
     "text": [
      "Training --- Episodes 440-449: 100%|██████████| 10/10 [00:14<00:00,  1.46s/it]\n"
     ]
    },
    {
     "name": "stdout",
     "output_type": "stream",
     "text": [
      "-------------------------------------------------\n",
      "\n",
      "[EVALUATION on DEV DATA] at Episode 450 | Avg. Reward: [[-965.0437]] | Avg. Cost: [[269.06503]] | Lambda: 8.6962 | Expl Noise: 0.10\n",
      "-------------------------------------------------\n"
     ]
    },
    {
     "name": "stderr",
     "output_type": "stream",
     "text": [
      "Training --- Episodes 450-459: 100%|██████████| 10/10 [00:13<00:00,  1.33s/it]\n"
     ]
    },
    {
     "name": "stdout",
     "output_type": "stream",
     "text": [
      "-------------------------------------------------\n",
      "\n",
      "[EVALUATION on DEV DATA] at Episode 460 | Avg. Reward: [[-964.67914]] | Avg. Cost: [[268.3631]] | Lambda: 8.9264 | Expl Noise: 0.10\n",
      "-------------------------------------------------\n"
     ]
    },
    {
     "name": "stderr",
     "output_type": "stream",
     "text": [
      "Training --- Episodes 460-469: 100%|██████████| 10/10 [00:12<00:00,  1.26s/it]\n"
     ]
    },
    {
     "name": "stdout",
     "output_type": "stream",
     "text": [
      "-------------------------------------------------\n",
      "\n",
      "[EVALUATION on DEV DATA] at Episode 470 | Avg. Reward: [[-960.49005]] | Avg. Cost: [[270.20468]] | Lambda: 9.1554 | Expl Noise: 0.10\n",
      "-------------------------------------------------\n"
     ]
    },
    {
     "name": "stderr",
     "output_type": "stream",
     "text": [
      "Training --- Episodes 470-479: 100%|██████████| 10/10 [00:12<00:00,  1.29s/it]\n"
     ]
    },
    {
     "name": "stdout",
     "output_type": "stream",
     "text": [
      "-------------------------------------------------\n",
      "\n",
      "[EVALUATION on DEV DATA] at Episode 480 | Avg. Reward: [[-961.21924]] | Avg. Cost: [[268.48358]] | Lambda: 9.3865 | Expl Noise: 0.10\n",
      "-------------------------------------------------\n"
     ]
    },
    {
     "name": "stderr",
     "output_type": "stream",
     "text": [
      "Training --- Episodes 480-489: 100%|██████████| 10/10 [00:12<00:00,  1.29s/it]\n"
     ]
    },
    {
     "name": "stdout",
     "output_type": "stream",
     "text": [
      "-------------------------------------------------\n",
      "\n",
      "[EVALUATION on DEV DATA] at Episode 490 | Avg. Reward: [[-959.5193]] | Avg. Cost: [[268.39136]] | Lambda: 9.6154 | Expl Noise: 0.10\n",
      "-------------------------------------------------\n"
     ]
    },
    {
     "name": "stderr",
     "output_type": "stream",
     "text": [
      "Training --- Episodes 490-499: 100%|██████████| 10/10 [00:12<00:00,  1.27s/it]\n"
     ]
    },
    {
     "name": "stdout",
     "output_type": "stream",
     "text": [
      "-------------------------------------------------\n",
      "\n",
      "[EVALUATION on DEV DATA] at Episode 500 | Avg. Reward: [[-960.80475]] | Avg. Cost: [[267.7333]] | Lambda: 9.8391 | Expl Noise: 0.10\n",
      "-------------------------------------------------\n",
      "****  Early stopping triggered. Training stabilized.  ****\n",
      "\n",
      "========== Training Completed ==========\n",
      "\n",
      "Total Time: 502.43s | Pure Training Time: 411.27s | Eval Time: 91.16s\n"
     ]
    }
   ],
   "execution_count": 26
  },
  {
   "metadata": {},
   "cell_type": "markdown",
   "source": [
    "## Differentiable Predictive Control\n",
    "\n",
    "Now in this section, we implement and train the DPC agent using the same dataset generated for the RL environment. This ensures both methods are trained and evaluated on identical conditions, allowing for a fair comparison. The implementation of DPC for different problems are already available in Nueromancer examples, such as [DPC Building Control](https://github.com/pnnl/neuromancer/blob/master/examples/domain_examples/DPC_building_control.ipynb) and [DPC for Two Connected Tanks](https://github.com/pnnl/neuromancer/blob/master/examples/control/Part_3_ref_tracking_ODE.ipynb).\n",
    "\n",
    "---\n",
    "\n",
    "### State-Space Model\n",
    "\n",
    "We use the same state-space model from the RL environment to define the system dynamics.\n",
    "\n",
    "---\n",
    "\n",
    "### Control Policy\n",
    "\n",
    "A neural control policy **$u_k = \\pi(x_k, R)$** computes the control action **$u_k$** based on the system state **$x_k$** and reference temperature bounds **$R = [T_{\\text{min}}, T_{\\text{max}}]$**. The policy is trained using gradient-based optimization.\n",
    "\n",
    "---\n",
    "\n",
    "### Optimization Problem Formulation\n",
    "\n",
    "The control policy is trained by solving the following **constrained optimization problem**:\n",
    "\n",
    "$$\n",
    "\\begin{align}\n",
    "&\\underset{\\theta}{\\text{minimize}} && \\sum_{k=1}^{N-1} \\Big( 0.01 ||u_k||_2^2 + 0.1 ||u_k - u_{k-1}||_2^2 \\Big) \\\\\n",
    "&\\text{subject to} && x_{k+1} = A x_k + B u_k + E d_k \\\\\n",
    "& && u_k = \\pi_{\\theta}(x_k, d_k, R_k) \\\\\n",
    "& && y_k = C x_k \\\\\n",
    "& && T_{\\text{min}, k} \\leq y_k \\leq T_{\\text{max}, k} \\\\\n",
    "& && 0 \\leq u_k \\leq 1 \\\\\n",
    "& && x_0 \\sim \\mathcal{P}_{x_0} \\\\\n",
    "& && d_k \\sim \\mathcal{P}_d \\\\\n",
    "& && R \\sim \\mathcal{P}_R\n",
    "\\end{align}\n",
    "$$\n",
    "\n",
    "where:\n",
    "- **Objective Function**: Minimizes energy usage **$||u_k||_2^2$** and penalizes abrupt control action changes **$||u_k - u_{k-1}||_2^2$**.\n",
    "- **Constraints**: Ensure temperature remains within the reference bounds **$[T_{\\text{min}, k}, T_{\\text{max}, k}]$** and control actions stay within operational limits **$[0, 1]$**.\n",
    "- **Stochasticity**: Distributions **$\\mathcal{P}_{x_0}$**, **$\\mathcal{P}_d$**, and **$\\mathcal{P}_R$** account for initial states, disturbances, and reference variations.\n",
    "\n",
    "---\n",
    "\n",
    "### Constraints\n",
    "\n",
    "To enforce constraints, penalties are applied:\n",
    "\n",
    "$$\n",
    "\\text{Constraint Violations: } \\quad \n",
    "\\begin{align}\n",
    "50 \\cdot \\max(T_{\\text{min}, k} - y_k, 0), \\\\\n",
    "50 \\cdot \\max(y_k - T_{\\text{max}, k}, 0).\n",
    "\\end{align}\n",
    "$$\n",
    "\n",
    "These penalties ensure the policy prioritizes keeping indoor temperature within acceptable limits.\n",
    "\n",
    "---\n",
    "\n",
    "### Training and Implementation\n",
    "\n",
    "The optimization problem is solved using **stochastic gradient descent (SGD)** over sampled initial conditions, disturbances, and reference bounds. The training process includes:\n",
    "\n",
    "- **Data normalization** for system states, disturbances, and reference signals.\n",
    "- **Batch-wise optimization** using the AdamW optimizer.\n",
    "- **Dynamic penalty updates** to ensure constraint satisfaction.\n",
    "\n",
    "The same dataset used for training the RL agent is applied here, ensuring both learning paradigms operate under identical conditions. The learned policy is evaluated on unseen scenarios to verify its generalization capabilities.\n"
   ],
   "id": "a2d6281c4e6528a0"
  },
  {
   "metadata": {},
   "cell_type": "markdown",
   "source": [
    "### System model and Control policy in Neuromancer\n",
    "\n",
    "Here we construct a closed-loop system as differentiable computational graph by connecting the system dynamics model  $x_{k+1} = \\text{ODESolve}(f(x_k, u_k))$ with neural control policy $u_k = \\pi_{\\theta}(x_k, R)$. Hence we obtain a trainable system architecture:\n",
    "$x_{k+1} = \\text{ODESolve}(f(x_k, \\pi_{\\theta}(x_k, R)))$."
   ],
   "id": "928923d5adbcdbf8"
  },
  {
   "metadata": {
    "ExecuteTime": {
     "end_time": "2025-01-30T06:19:31.068455Z",
     "start_time": "2025-01-30T06:19:30.965473Z"
    }
   },
   "cell_type": "code",
   "source": [
    "import neuromancer.psl as psl\n",
    "from neuromancer.system import Node, System\n",
    "from neuromancer.modules import blocks\n",
    "from neuromancer.modules.activations import activations\n",
    "from neuromancer.dataset import DictDataset\n",
    "from neuromancer.constraint import variable\n",
    "from neuromancer.loss import PenaltyLoss\n",
    "from neuromancer.problem import Problem\n",
    "from neuromancer.trainer import Trainer\n",
    "\n",
    "\n",
    "# state-space model of the building dynamics:\n",
    "#   x_k+1 =  A x_k + B u_k + E d_k\n",
    "xnext = lambda x, u, d: x @ problem_specs[\"A\"].T + u @ problem_specs[\"B\"].T + d @ problem_specs[\"E\"].T\n",
    "state_model = Node(xnext, ['x', 'u', 'd'], ['x'], name='SSM')\n",
    "#   y_k = C x_k\n",
    "ynext = lambda x: x @ problem_specs[\"C\"].T\n",
    "output_model = Node(ynext, ['x'], ['y'], name='y=Cx')\n",
    "\n",
    "# get normalization layer to generate policy features\n",
    "def normalize_features(*inputs):\n",
    "    x = torch.cat(inputs, dim=-1)\n",
    "    return (x - data_stats[\"means\"]) / data_stats[\"stds\"]\n",
    "\n",
    "# features node\n",
    "features = Node(normalize_features, ['x', 'ymin', 'ymax', 'd'],\n",
    "                ['xi'], name='features')\n",
    "\n",
    "# neural net control policy\n",
    "net = blocks.MLP_bounds(insize=problem_specs[\"nx\"] + 2 * problem_specs[\"nref\"] + problem_specs[\"nd\"],\n",
    "                        outsize=problem_specs[\"nu\"], hsizes=[32, 32],\n",
    "                        nonlin=activations['gelu'],\n",
    "                        min=problem_specs[\"umin\"], max=problem_specs[\"umax\"])\n",
    "# symbolic policy\n",
    "policy = Node(net, ['xi'], ['u'], name='policy')\n",
    "\n",
    "# closed-loop system model\n",
    "cl_system = System([features, policy, state_model, output_model],\n",
    "                   nsteps=nsteps,\n",
    "                   name='cl_system')\n",
    "cl_system.show()\n"
   ],
   "id": "c2aeb654e45f6073",
   "outputs": [
    {
     "data": {
      "text/plain": [
       "<Figure size 640x480 with 1 Axes>"
      ],
      "image/png": "[encoded data removed]"
     },
     "metadata": {},
     "output_type": "display_data"
    }
   ],
   "execution_count": 27
  },
  {
   "metadata": {},
   "cell_type": "markdown",
   "source": [
    "### Differentiable Predictive Control objectives and constraints\n",
    "\n",
    "Here we take advantage of Neuromancer's high level symbolic language to define objective and constraint terms of our optimal control problem.\n",
    "\n"
   ],
   "id": "3e6c47ae03dc85ea"
  },
  {
   "cell_type": "code",
   "id": "515a0c17bec12a64",
   "metadata": {
    "ExecuteTime": {
     "end_time": "2025-01-30T06:19:31.086882Z",
     "start_time": "2025-01-30T06:19:31.080328Z"
    }
   },
   "source": [
    "# variables\n",
    "y = variable('y')\n",
    "u = variable('u')\n",
    "ymin = variable('ymin')\n",
    "ymax = variable('ymax')\n",
    "\n",
    "# objectives\n",
    "action_loss = 0.01 * (u == 0.0)  # energy minimization\n",
    "du_loss = 0.1 * (u[:,:-1,:] - u[:,1:,:] == 0.0)  # delta u minimization\n",
    "\n",
    "# # constraints\n",
    "state_lower_bound_penalty = 50.*(y > ymin)\n",
    "state_upper_bound_penalty = 50.*(y < ymax)\n",
    "\n",
    "# # objectives and constraints names for nicer plot\n",
    "action_loss.name = 'action_loss'\n",
    "du_loss.name = 'du_loss'\n",
    "state_lower_bound_penalty.name = 'x_min'\n",
    "state_upper_bound_penalty.name = 'x_max'\n",
    "\n",
    "# list of constraints and objectives\n",
    "objectives = [action_loss, du_loss]\n",
    "constraints = [\n",
    "    state_lower_bound_penalty,\n",
    "    state_upper_bound_penalty\n",
    "]\n"
   ],
   "outputs": [],
   "execution_count": 28
  },
  {
   "metadata": {},
   "cell_type": "markdown",
   "source": [
    "### Differentiable optimal control problem\n",
    "\n",
    "Here we put things together to construct a differentibale optimal control problem.\n"
   ],
   "id": "25a41b3a1d0d5485"
  },
  {
   "metadata": {
    "ExecuteTime": {
     "end_time": "2025-01-30T06:19:31.349772Z",
     "start_time": "2025-01-30T06:19:31.130028Z"
    }
   },
   "cell_type": "code",
   "source": [
    "# data -> parameters (xi_k) -> policy (u_k) -> dynamics (x_k+1)\n",
    "nodes = [cl_system]\n",
    "\n",
    "# create constrained optimization loss\n",
    "loss = PenaltyLoss(objectives, constraints)\n",
    "\n",
    "# construct constrained optimization problem\n",
    "problem = Problem(nodes, loss)\n",
    "\n",
    "# plot computational graph\n",
    "problem.show()\n"
   ],
   "id": "3821e486586eeabc",
   "outputs": [
    {
     "data": {
      "text/plain": [
       "<Figure size 640x480 with 1 Axes>"
      ],
      "image/png": "[encoded data removed]"
     },
     "metadata": {},
     "output_type": "display_data"
    }
   ],
   "execution_count": 29
  },
  {
   "metadata": {},
   "cell_type": "markdown",
   "source": [
    "### Solving the problem\n",
    "\n",
    "We solve the problem using stochastic gradient descent over pre-defined training data of sampled parameters.\n"
   ],
   "id": "86cca7ba5d9ca434"
  },
  {
   "metadata": {
    "ExecuteTime": {
     "end_time": "2025-01-30T06:24:55.780337Z",
     "start_time": "2025-01-30T06:19:31.381645Z"
    }
   },
   "cell_type": "code",
   "source": [
    "epochs = 300\n",
    "optimizer = torch.optim.AdamW(problem.parameters(), lr=0.001)\n",
    "#  Neuromancer trainer\n",
    "trainer = Trainer(\n",
    "    problem,\n",
    "    data_loader[\"train_loader\"], data_loader[\"dev_loader\"],\n",
    "    optimizer=optimizer,\n",
    "    epochs=epochs,\n",
    "    train_metric='train_loss',\n",
    "    eval_metric='dev_loss',\n",
    "    warmup=epochs,\n",
    "    patience=5,\n",
    ")\n",
    "start_time = time.time()\n",
    "# Train control policy\n",
    "best_model = trainer.train()\n",
    "# load best trained model\n",
    "trainer.model.load_state_dict(best_model)\n",
    "\n",
    "print(f\"Pure Training Time: {time.time() - start_time:.2f}s\")"
   ],
   "id": "a28f6c91e88eda9b",
   "outputs": [
    {
     "name": "stderr",
     "output_type": "stream",
     "text": [
      "/home/alireza/neuromancer/neuromancer/neuromancer_RL/src/neuromancer/constraint.py:169: UserWarning: Using a target size (torch.Size([])) that is different to the input size (torch.Size([100, 100, 1])). This will likely lead to incorrect results due to broadcasting. Please ensure they have the same size.\n",
      "  loss = F.l1_loss(left, right)\n",
      "/home/alireza/neuromancer/neuromancer/neuromancer_RL/src/neuromancer/constraint.py:169: UserWarning: Using a target size (torch.Size([])) that is different to the input size (torch.Size([100, 99, 1])). This will likely lead to incorrect results due to broadcasting. Please ensure they have the same size.\n",
      "  loss = F.l1_loss(left, right)\n"
     ]
    },
    {
     "name": "stdout",
     "output_type": "stream",
     "text": [
      "epoch: 0  train_loss: 67.23876953125\n",
      "epoch: 1  train_loss: 62.0628776550293\n",
      "epoch: 2  train_loss: 56.80132293701172\n",
      "epoch: 3  train_loss: 50.8159065246582\n",
      "epoch: 4  train_loss: 43.88370895385742\n",
      "epoch: 5  train_loss: 36.626129150390625\n",
      "epoch: 6  train_loss: 30.3054141998291\n",
      "epoch: 7  train_loss: 25.897287368774414\n",
      "epoch: 8  train_loss: 23.250629425048828\n",
      "epoch: 9  train_loss: 21.73172378540039\n",
      "epoch: 10  train_loss: 20.75401496887207\n",
      "epoch: 11  train_loss: 20.03668785095215\n",
      "epoch: 12  train_loss: 19.469663619995117\n",
      "epoch: 13  train_loss: 19.01753044128418\n",
      "epoch: 14  train_loss: 18.657007217407227\n",
      "epoch: 15  train_loss: 18.359905242919922\n",
      "epoch: 16  train_loss: 18.109119415283203\n",
      "epoch: 17  train_loss: 17.897560119628906\n",
      "epoch: 18  train_loss: 17.719249725341797\n",
      "epoch: 19  train_loss: 17.569652557373047\n",
      "epoch: 20  train_loss: 17.437997817993164\n",
      "epoch: 21  train_loss: 17.319210052490234\n",
      "epoch: 22  train_loss: 17.208690643310547\n",
      "epoch: 23  train_loss: 17.104534149169922\n",
      "epoch: 24  train_loss: 17.007238388061523\n",
      "epoch: 25  train_loss: 16.917306900024414\n",
      "epoch: 26  train_loss: 16.832401275634766\n",
      "epoch: 27  train_loss: 16.755786895751953\n",
      "epoch: 28  train_loss: 16.68619155883789\n",
      "epoch: 29  train_loss: 16.623367309570312\n",
      "epoch: 30  train_loss: 16.565746307373047\n",
      "epoch: 31  train_loss: 16.513845443725586\n",
      "epoch: 32  train_loss: 16.46744155883789\n",
      "epoch: 33  train_loss: 16.424684524536133\n",
      "epoch: 34  train_loss: 16.387168884277344\n",
      "epoch: 35  train_loss: 16.352872848510742\n",
      "epoch: 36  train_loss: 16.32194709777832\n",
      "epoch: 37  train_loss: 16.29348373413086\n",
      "epoch: 38  train_loss: 16.267763137817383\n",
      "epoch: 39  train_loss: 16.244287490844727\n",
      "epoch: 40  train_loss: 16.22249984741211\n",
      "epoch: 41  train_loss: 16.203044891357422\n",
      "epoch: 42  train_loss: 16.185009002685547\n",
      "epoch: 43  train_loss: 16.168609619140625\n",
      "epoch: 44  train_loss: 16.153385162353516\n",
      "epoch: 45  train_loss: 16.1391658782959\n",
      "epoch: 46  train_loss: 16.126659393310547\n",
      "epoch: 47  train_loss: 16.11490249633789\n",
      "epoch: 48  train_loss: 16.1035099029541\n",
      "epoch: 49  train_loss: 16.09330177307129\n",
      "epoch: 50  train_loss: 16.083425521850586\n",
      "epoch: 51  train_loss: 16.074844360351562\n",
      "epoch: 52  train_loss: 16.066545486450195\n",
      "epoch: 53  train_loss: 16.05840301513672\n",
      "epoch: 54  train_loss: 16.05071449279785\n",
      "epoch: 55  train_loss: 16.043853759765625\n",
      "epoch: 56  train_loss: 16.03660774230957\n",
      "epoch: 57  train_loss: 16.0296688079834\n",
      "epoch: 58  train_loss: 16.023357391357422\n",
      "epoch: 59  train_loss: 16.01714324951172\n",
      "epoch: 60  train_loss: 16.010883331298828\n",
      "epoch: 61  train_loss: 16.00440216064453\n",
      "epoch: 62  train_loss: 15.997825622558594\n",
      "epoch: 63  train_loss: 15.991864204406738\n",
      "epoch: 64  train_loss: 15.985315322875977\n",
      "epoch: 65  train_loss: 15.978475570678711\n",
      "epoch: 66  train_loss: 15.972439765930176\n",
      "epoch: 67  train_loss: 15.96660041809082\n",
      "epoch: 68  train_loss: 15.960131645202637\n",
      "epoch: 69  train_loss: 15.953892707824707\n",
      "epoch: 70  train_loss: 15.947610855102539\n",
      "epoch: 71  train_loss: 15.941499710083008\n",
      "epoch: 72  train_loss: 15.93571949005127\n",
      "epoch: 73  train_loss: 15.929197311401367\n",
      "epoch: 74  train_loss: 15.923067092895508\n",
      "epoch: 75  train_loss: 15.916999816894531\n",
      "epoch: 76  train_loss: 15.910565376281738\n",
      "epoch: 77  train_loss: 15.904643058776855\n",
      "epoch: 78  train_loss: 15.898672103881836\n",
      "epoch: 79  train_loss: 15.892389297485352\n",
      "epoch: 80  train_loss: 15.885887145996094\n",
      "epoch: 81  train_loss: 15.879788398742676\n",
      "epoch: 82  train_loss: 15.873443603515625\n",
      "epoch: 83  train_loss: 15.867568969726562\n",
      "epoch: 84  train_loss: 15.861516952514648\n",
      "epoch: 85  train_loss: 15.854998588562012\n",
      "epoch: 86  train_loss: 15.8486328125\n",
      "epoch: 87  train_loss: 15.842318534851074\n",
      "epoch: 88  train_loss: 15.8363618850708\n",
      "epoch: 89  train_loss: 15.829900741577148\n",
      "epoch: 90  train_loss: 15.82371711730957\n",
      "epoch: 91  train_loss: 15.817848205566406\n",
      "epoch: 92  train_loss: 15.811116218566895\n",
      "epoch: 93  train_loss: 15.804430961608887\n",
      "epoch: 94  train_loss: 15.798040390014648\n",
      "epoch: 95  train_loss: 15.791780471801758\n",
      "epoch: 96  train_loss: 15.785062789916992\n",
      "epoch: 97  train_loss: 15.77862548828125\n",
      "epoch: 98  train_loss: 15.772356986999512\n",
      "epoch: 99  train_loss: 15.765666007995605\n",
      "epoch: 100  train_loss: 15.759305953979492\n",
      "epoch: 101  train_loss: 15.752490043640137\n",
      "epoch: 102  train_loss: 15.746562004089355\n",
      "epoch: 103  train_loss: 15.739008903503418\n",
      "epoch: 104  train_loss: 15.732073783874512\n",
      "epoch: 105  train_loss: 15.725126266479492\n",
      "epoch: 106  train_loss: 15.718832015991211\n",
      "epoch: 107  train_loss: 15.711674690246582\n",
      "epoch: 108  train_loss: 15.705134391784668\n",
      "epoch: 109  train_loss: 15.69830322265625\n",
      "epoch: 110  train_loss: 15.691787719726562\n",
      "epoch: 111  train_loss: 15.68530559539795\n",
      "epoch: 112  train_loss: 15.678680419921875\n",
      "epoch: 113  train_loss: 15.67181396484375\n",
      "epoch: 114  train_loss: 15.665278434753418\n",
      "epoch: 115  train_loss: 15.658970832824707\n",
      "epoch: 116  train_loss: 15.651959419250488\n",
      "epoch: 117  train_loss: 15.645733833312988\n",
      "epoch: 118  train_loss: 15.640005111694336\n",
      "epoch: 119  train_loss: 15.634881973266602\n",
      "epoch: 120  train_loss: 15.629368782043457\n",
      "epoch: 121  train_loss: 15.624887466430664\n",
      "epoch: 122  train_loss: 15.62086009979248\n",
      "epoch: 123  train_loss: 15.614436149597168\n",
      "epoch: 124  train_loss: 15.606864929199219\n",
      "epoch: 125  train_loss: 15.598910331726074\n",
      "epoch: 126  train_loss: 15.591466903686523\n",
      "epoch: 127  train_loss: 15.583593368530273\n",
      "epoch: 128  train_loss: 15.576622009277344\n",
      "epoch: 129  train_loss: 15.570101737976074\n",
      "epoch: 130  train_loss: 15.563824653625488\n",
      "epoch: 131  train_loss: 15.5582857131958\n",
      "epoch: 132  train_loss: 15.552047729492188\n",
      "epoch: 133  train_loss: 15.546252250671387\n",
      "epoch: 134  train_loss: 15.541213989257812\n",
      "epoch: 135  train_loss: 15.536844253540039\n",
      "epoch: 136  train_loss: 15.532312393188477\n",
      "epoch: 137  train_loss: 15.525556564331055\n",
      "epoch: 138  train_loss: 15.52015495300293\n",
      "epoch: 139  train_loss: 15.5150728225708\n",
      "epoch: 140  train_loss: 15.510676383972168\n",
      "epoch: 141  train_loss: 15.506213188171387\n",
      "epoch: 142  train_loss: 15.501998901367188\n",
      "epoch: 143  train_loss: 15.498098373413086\n",
      "epoch: 144  train_loss: 15.493290901184082\n",
      "epoch: 145  train_loss: 15.491310119628906\n",
      "epoch: 146  train_loss: 15.487591743469238\n",
      "epoch: 147  train_loss: 15.484071731567383\n",
      "epoch: 148  train_loss: 15.479756355285645\n",
      "epoch: 149  train_loss: 15.476702690124512\n",
      "epoch: 150  train_loss: 15.474751472473145\n",
      "epoch: 151  train_loss: 15.472002983093262\n",
      "epoch: 152  train_loss: 15.46868896484375\n",
      "epoch: 153  train_loss: 15.467199325561523\n",
      "epoch: 154  train_loss: 15.464810371398926\n",
      "epoch: 155  train_loss: 15.461407661437988\n",
      "epoch: 156  train_loss: 15.458773612976074\n",
      "epoch: 157  train_loss: 15.45768928527832\n",
      "epoch: 158  train_loss: 15.455442428588867\n",
      "epoch: 159  train_loss: 15.4530668258667\n",
      "epoch: 160  train_loss: 15.451467514038086\n",
      "epoch: 161  train_loss: 15.449640274047852\n",
      "epoch: 162  train_loss: 15.447126388549805\n",
      "epoch: 163  train_loss: 15.44555377960205\n",
      "epoch: 164  train_loss: 15.444369316101074\n",
      "epoch: 165  train_loss: 15.442599296569824\n",
      "epoch: 166  train_loss: 15.440919876098633\n",
      "epoch: 167  train_loss: 15.439778327941895\n",
      "epoch: 168  train_loss: 15.438786506652832\n",
      "epoch: 169  train_loss: 15.436288833618164\n",
      "epoch: 170  train_loss: 15.434816360473633\n",
      "epoch: 171  train_loss: 15.4342622756958\n",
      "epoch: 172  train_loss: 15.43278980255127\n",
      "epoch: 173  train_loss: 15.431248664855957\n",
      "epoch: 174  train_loss: 15.430200576782227\n",
      "epoch: 175  train_loss: 15.428996086120605\n",
      "epoch: 176  train_loss: 15.42796802520752\n",
      "epoch: 177  train_loss: 15.426465034484863\n",
      "epoch: 178  train_loss: 15.425613403320312\n",
      "epoch: 179  train_loss: 15.424603462219238\n",
      "epoch: 180  train_loss: 15.424444198608398\n",
      "epoch: 181  train_loss: 15.422513961791992\n",
      "epoch: 182  train_loss: 15.422228813171387\n",
      "epoch: 183  train_loss: 15.420171737670898\n",
      "epoch: 184  train_loss: 15.419654846191406\n",
      "epoch: 185  train_loss: 15.41827392578125\n",
      "epoch: 186  train_loss: 15.418264389038086\n",
      "epoch: 187  train_loss: 15.417086601257324\n",
      "epoch: 188  train_loss: 15.416509628295898\n",
      "epoch: 189  train_loss: 15.415399551391602\n",
      "epoch: 190  train_loss: 15.414743423461914\n",
      "epoch: 191  train_loss: 15.413742065429688\n",
      "epoch: 192  train_loss: 15.412651062011719\n",
      "epoch: 193  train_loss: 15.412145614624023\n",
      "epoch: 194  train_loss: 15.410989761352539\n",
      "epoch: 195  train_loss: 15.410318374633789\n",
      "epoch: 196  train_loss: 15.409808158874512\n",
      "epoch: 197  train_loss: 15.409154891967773\n",
      "epoch: 198  train_loss: 15.40868854522705\n",
      "epoch: 199  train_loss: 15.408207893371582\n",
      "epoch: 200  train_loss: 15.407691955566406\n",
      "epoch: 201  train_loss: 15.407122611999512\n",
      "epoch: 202  train_loss: 15.406115531921387\n",
      "epoch: 203  train_loss: 15.405569076538086\n",
      "epoch: 204  train_loss: 15.40545654296875\n",
      "epoch: 205  train_loss: 15.40484619140625\n",
      "epoch: 206  train_loss: 15.405586242675781\n",
      "epoch: 207  train_loss: 15.405171394348145\n",
      "epoch: 208  train_loss: 15.405560493469238\n",
      "epoch: 209  train_loss: 15.404828071594238\n",
      "epoch: 210  train_loss: 15.404520034790039\n",
      "epoch: 211  train_loss: 15.403860092163086\n",
      "epoch: 212  train_loss: 15.401985168457031\n",
      "epoch: 213  train_loss: 15.40124225616455\n",
      "epoch: 214  train_loss: 15.40092945098877\n",
      "epoch: 215  train_loss: 15.400739669799805\n",
      "epoch: 216  train_loss: 15.400739669799805\n",
      "epoch: 217  train_loss: 15.398966789245605\n",
      "epoch: 218  train_loss: 15.397855758666992\n",
      "epoch: 219  train_loss: 15.39714527130127\n",
      "epoch: 220  train_loss: 15.395757675170898\n",
      "epoch: 221  train_loss: 15.395556449890137\n",
      "epoch: 222  train_loss: 15.39448070526123\n",
      "epoch: 223  train_loss: 15.3943510055542\n",
      "epoch: 224  train_loss: 15.39337158203125\n",
      "epoch: 225  train_loss: 15.393135070800781\n",
      "epoch: 226  train_loss: 15.392478942871094\n",
      "epoch: 227  train_loss: 15.392239570617676\n",
      "epoch: 228  train_loss: 15.391576766967773\n",
      "epoch: 229  train_loss: 15.390714645385742\n",
      "epoch: 230  train_loss: 15.389981269836426\n",
      "epoch: 231  train_loss: 15.389538764953613\n",
      "epoch: 232  train_loss: 15.388888359069824\n",
      "epoch: 233  train_loss: 15.388128280639648\n",
      "epoch: 234  train_loss: 15.387758255004883\n",
      "epoch: 235  train_loss: 15.386988639831543\n",
      "epoch: 236  train_loss: 15.38683795928955\n",
      "epoch: 237  train_loss: 15.38676929473877\n",
      "epoch: 238  train_loss: 15.386385917663574\n",
      "epoch: 239  train_loss: 15.38561725616455\n",
      "epoch: 240  train_loss: 15.385516166687012\n",
      "epoch: 241  train_loss: 15.384753227233887\n",
      "epoch: 242  train_loss: 15.383313179016113\n",
      "epoch: 243  train_loss: 15.382797241210938\n",
      "epoch: 244  train_loss: 15.381706237792969\n",
      "epoch: 245  train_loss: 15.381216049194336\n",
      "epoch: 246  train_loss: 15.381192207336426\n",
      "epoch: 247  train_loss: 15.380399703979492\n",
      "epoch: 248  train_loss: 15.379429817199707\n",
      "epoch: 249  train_loss: 15.380607604980469\n",
      "epoch: 250  train_loss: 15.37981128692627\n",
      "epoch: 251  train_loss: 15.378349304199219\n",
      "epoch: 252  train_loss: 15.379338264465332\n",
      "epoch: 253  train_loss: 15.377708435058594\n",
      "epoch: 254  train_loss: 15.376980781555176\n",
      "epoch: 255  train_loss: 15.375856399536133\n",
      "epoch: 256  train_loss: 15.375764846801758\n",
      "epoch: 257  train_loss: 15.374463081359863\n",
      "epoch: 258  train_loss: 15.374044418334961\n",
      "epoch: 259  train_loss: 15.373674392700195\n",
      "epoch: 260  train_loss: 15.372347831726074\n",
      "epoch: 261  train_loss: 15.371980667114258\n",
      "epoch: 262  train_loss: 15.372934341430664\n",
      "epoch: 263  train_loss: 15.371879577636719\n",
      "epoch: 264  train_loss: 15.37079906463623\n",
      "epoch: 265  train_loss: 15.369949340820312\n",
      "epoch: 266  train_loss: 15.370646476745605\n",
      "epoch: 267  train_loss: 15.369776725769043\n",
      "epoch: 268  train_loss: 15.368337631225586\n",
      "epoch: 269  train_loss: 15.369555473327637\n",
      "epoch: 270  train_loss: 15.369501113891602\n",
      "epoch: 271  train_loss: 15.36839771270752\n",
      "epoch: 272  train_loss: 15.36585807800293\n",
      "epoch: 273  train_loss: 15.365373611450195\n",
      "epoch: 274  train_loss: 15.366827011108398\n",
      "epoch: 275  train_loss: 15.366697311401367\n",
      "epoch: 276  train_loss: 15.365020751953125\n",
      "epoch: 277  train_loss: 15.364184379577637\n",
      "epoch: 278  train_loss: 15.367281913757324\n",
      "epoch: 279  train_loss: 15.366216659545898\n",
      "epoch: 280  train_loss: 15.363113403320312\n",
      "epoch: 281  train_loss: 15.3613920211792\n",
      "epoch: 282  train_loss: 15.362689018249512\n",
      "epoch: 283  train_loss: 15.362019538879395\n",
      "epoch: 284  train_loss: 15.360818862915039\n",
      "epoch: 285  train_loss: 15.361180305480957\n",
      "epoch: 286  train_loss: 15.360654830932617\n",
      "epoch: 287  train_loss: 15.3605375289917\n",
      "epoch: 288  train_loss: 15.359430313110352\n",
      "epoch: 289  train_loss: 15.35669231414795\n",
      "epoch: 290  train_loss: 15.356722831726074\n",
      "epoch: 291  train_loss: 15.359306335449219\n",
      "epoch: 292  train_loss: 15.357797622680664\n",
      "epoch: 293  train_loss: 15.35395336151123\n",
      "epoch: 294  train_loss: 15.355611801147461\n",
      "epoch: 295  train_loss: 15.357938766479492\n",
      "epoch: 296  train_loss: 15.354690551757812\n",
      "epoch: 297  train_loss: 15.352493286132812\n",
      "epoch: 298  train_loss: 15.355627059936523\n",
      "epoch: 299  train_loss: 15.353273391723633\n",
      "Pure Training Time: 324.39s\n"
     ]
    }
   ],
   "execution_count": 30
  },
  {
   "metadata": {},
   "cell_type": "markdown",
   "source": [
    "### Compute DPC Costs `(calculate_dpc_costs)`\n",
    "\n",
    "This function calculates the **operational cost** and **constraint violation cost** for a given trajectory.\n",
    "\n",
    "- **Operational Cost**: Summed over all control actions and scaled to reflect energy usage.\n",
    "- **Violation Cost**: Penalizes deviations from temperature constraints by applying a weighted penalty when the temperature exceeds the upper or lower bounds.\n"
   ],
   "id": "375df88fccebd7b6"
  },
  {
   "metadata": {
    "ExecuteTime": {
     "end_time": "2025-01-30T06:58:37.586832Z",
     "start_time": "2025-01-30T06:58:37.583810Z"
    }
   },
   "cell_type": "code",
   "source": [
    "def calculate_dpc_costs(trajectories):\n",
    "    \"\"\"Compute operational and violation costs from a trajectory.\"\"\"\n",
    "    temp_min, temp_max = trajectories[\"ymin\"][0].clone().detach(), trajectories[\"ymax\"][0].clone().detach()\n",
    "    dpc_operational_cost = sum(u.item() for u in trajectories['u'][0]) * 0.01\n",
    "\n",
    "    dpc_violation_cost = sum(\n",
    "        50 * max(temp_min[i].item() - y.item(), 0) +\n",
    "        50 * max(y.item() - temp_max[i].item(), 0)\n",
    "        for i, y in enumerate(trajectories['y'][0][:-1])\n",
    "    )\n",
    "\n",
    "    return dpc_operational_cost, dpc_violation_cost\n"
   ],
   "id": "61fa73cf4f9b689",
   "outputs": [],
   "execution_count": 46
  },
  {
   "metadata": {},
   "cell_type": "markdown",
   "source": [
    "### Evaluating DPC over Dev Data\n",
    "\n",
    "This function evaluates the trained DPC on a given dataset by computing the **average operational cost** and **average constraint violation cost** across multiple samples.\n",
    "\n",
    "#### Process:\n",
    "1. **Iterates through all samples** in the dataset.\n",
    "2. **Prepares input data** for each sample, including initial state, disturbance, and reference bounds.\n",
    "3. **Runs closed-loop simulations** for each sample.\n",
    "4. **Computes costs** for each trajectory using the **operational cost** (energy usage) and **violation cost** (penalties for exceeding constraints).\n",
    "5. **Averages costs** over all samples to assess the overall efficiency and constraint adherence of the control policy.\n",
    "\n",
    "#### Output:\n",
    "- **Average Operational Cost**\n",
    "- **Average Violation Cost**"
   ],
   "id": "ea059cdd74ee484a"
  },
  {
   "metadata": {
    "ExecuteTime": {
     "end_time": "2025-01-30T07:00:36.804108Z",
     "start_time": "2025-01-30T07:00:36.799423Z"
    }
   },
   "cell_type": "code",
   "source": [
    "def evaluate_dpc(dpc, data):\n",
    "    total_operational_cost = 0.0\n",
    "    total_violation_cost = 0.0\n",
    "    num_samples = len(data)\n",
    "\n",
    "    for idx, sample in enumerate(data):\n",
    "        # Prepare sample data\n",
    "        x0 = sample['x'].unsqueeze(dim=0)\n",
    "        ymin = sample['ymin'].unsqueeze(dim=0)\n",
    "        ymax = sample['ymax'].unsqueeze(dim=0)\n",
    "        d = sample['d'].unsqueeze(dim=0)\n",
    "        nsteps = len(sample['ymin'])\n",
    "\n",
    "        sample_data = {\n",
    "            'x': x0,\n",
    "            'y': x0[:, :, [-1]],\n",
    "            'ymin': ymin,\n",
    "            'ymax': ymax,\n",
    "            'd': d\n",
    "        }\n",
    "\n",
    "        # Set the simulation steps\n",
    "        dpc.nsteps = nsteps\n",
    "\n",
    "        # Perform closed-loop simulation\n",
    "        trajectories = dpc(sample_data)\n",
    "\n",
    "        # Compute costs for the current trajectory\n",
    "        operational_cost, violation_cost = calculate_dpc_costs(trajectories)\n",
    "        \n",
    "        # Accumulate total costs\n",
    "        total_operational_cost += operational_cost\n",
    "        total_violation_cost += violation_cost\n",
    "\n",
    "    # Compute average costs\n",
    "    avg_operational_cost = total_operational_cost / num_samples\n",
    "    avg_violation_cost = total_violation_cost / num_samples\n",
    "\n",
    "    return avg_operational_cost, avg_violation_cost\n"
   ],
   "id": "33734fd523c39257",
   "outputs": [],
   "execution_count": 49
  },
  {
   "metadata": {
    "ExecuteTime": {
     "end_time": "2025-01-30T07:04:01.650126Z",
     "start_time": "2025-01-30T07:03:53.820008Z"
    }
   },
   "cell_type": "code",
   "source": [
    "dpc_operational_cost, dpc_violation_cost = evaluate_dpc(cl_system, data['dev_data'])\n",
    "rl_operational_cost, rl_violation_cost = evaluate_policy(agent, dev_env)\n",
    "\n",
    "print(f\"DPC Average Operational Cost on Dev Data: {dpc_operational_cost:.2f}\")\n",
    "print(f\"RL Average Operational Cost on Dev Data: {-rl_operational_cost:.2f}\")\n",
    "print(f\"DPC Average Violation Cost on Dev Data: {dpc_violation_cost:.2f}\")\n",
    "print(f\"RL Average Violation Cost on Dev Data: {rl_violation_cost:.2f}\")"
   ],
   "id": "a6c3fd84277ce1fe",
   "outputs": [
    {
     "name": "stdout",
     "output_type": "stream",
     "text": [
      "DPC Average Operational Cost on Dev Data: 946.77\n",
      "RL Average Operational Cost on Dev Data: 960.80\n",
      "DPC Average Violation Cost on Dev Data: 415.52\n",
      "RL Average Violation Cost on Dev Data: 267.73\n"
     ]
    }
   ],
   "execution_count": 55
  },
  {
   "metadata": {},
   "cell_type": "markdown",
   "source": [
    "### DPC vs RL Rollout Simulation\n",
    "\n"
   ],
   "id": "38335b743d83d7fc"
  },
  {
   "metadata": {
    "ExecuteTime": {
     "end_time": "2025-01-30T07:19:41.468090Z",
     "start_time": "2025-01-30T07:19:40.633967Z"
    }
   },
   "cell_type": "code",
   "source": [
    "nsteps_test = 1000\n",
    "sys = psl.systems['LinearSimpleSingleZone']()\n",
    "# generate reference\n",
    "np_refs = psl.signals.step(nsteps_test+1, 1, min=18., max=22., randsteps=5)\n",
    "ymin_val = torch.tensor(np_refs, dtype=torch.float32).reshape(1, nsteps_test+1, 1)\n",
    "ymax_val = ymin_val+2.0\n",
    "# generate disturbance signal\n",
    "torch_dist = torch.tensor(sys.get_D(nsteps_test+1)).unsqueeze(0)\n",
    "# initial data for closed loop simulation\n",
    "x0 = torch.tensor(sys.get_x0()).reshape(1, 1, problem_specs[\"nx\"])\n",
    "inf_data = {'x': x0,\n",
    "        'y': x0[:, :, [-1]],\n",
    "        'ymin': ymin_val,\n",
    "        'ymax': ymax_val,\n",
    "        'd': torch_dist}\n",
    "\n",
    "train_env.reset()\n",
    "outputs = train_env.inference(inf_data, agent)\n",
    "\n",
    "cl_system.nsteps = nsteps_test\n",
    "# perform closed-loop simulation\n",
    "trajectories = cl_system(inf_data)\n",
    "\n"
   ],
   "id": "400952557e313665",
   "outputs": [],
   "execution_count": 108
  },
  {
   "metadata": {
    "ExecuteTime": {
     "end_time": "2025-01-30T07:19:41.495425Z",
     "start_time": "2025-01-30T07:19:41.479906Z"
    }
   },
   "cell_type": "code",
   "source": [
    "import matplotlib.pyplot as plt\n",
    "\n",
    "def visualize_results(rl_outputs, dpc_trajectories, inf_data):\n",
    "    \n",
    "    # Temperature Control Plot\n",
    "    plt.figure(figsize=(20, 5))\n",
    "    plt.plot([temp[0][0].item() for temp in rl_outputs['y']], label=\"Controlled Temp (RL)\", color='blue', linestyle='-', linewidth=4, alpha=0.7)\n",
    "    plt.plot([temp[0].cpu().detach() for temp in dpc_trajectories['y'][0]], label=\"Controlled Temp (DPC)\", color='red', linestyle='-', linewidth=4, alpha=0.7)\n",
    "\n",
    "    time_steps = np.arange(len(inf_data['ymin'][0]) - 1)\n",
    "    plt.step(time_steps, np.ravel(inf_data['ymin'][0][:-1]), where='post', label=\"Min Temp Bound\", color='green', linestyle='--', linewidth=2)\n",
    "    plt.step(time_steps, np.ravel(inf_data['ymax'][0][:-1]), where='post', label=\"Max Temp Bound\", color='orange', linestyle='--', linewidth=2)\n",
    "    plt.fill_between(time_steps, np.ravel(inf_data['ymin'][0][:-1]), np.ravel(inf_data['ymax'][0][:-1]),\n",
    "                     color='yellow', alpha=0.3, label='Valid Temp Range')\n",
    "\n",
    "    plt.xlabel(\"Time Step\", fontsize=14)\n",
    "    plt.ylabel(\"Temperature (°C)\", fontsize=14)\n",
    "    plt.title(\"Controlled Zone Temperature (RL vs. DPC)\", fontsize=18)\n",
    "    plt.grid(True, linestyle='--', linewidth=0.5)\n",
    "    plt.legend(fontsize=12, loc='best')\n",
    "    plt.tight_layout()\n",
    "\n",
    "\n",
    "    # Plot RL and DPC actions\n",
    "    plt.figure(figsize=(20, 5))\n",
    "    plt.plot([(action[0][0].item()) for action in rl_outputs['u']], label=\"Actions (RL)\", color='blue', linestyle='-', linewidth=4, alpha=0.7)\n",
    "    plt.plot([action.cpu().detach() for action in dpc_trajectories['u'][0]], label=\"Actions (DPC)\", color='red', linestyle='-', linewidth=4, alpha=0.7)\n",
    "\n",
    "    plt.ylim(0, problem_specs['umax'].numpy())\n",
    "    plt.xlabel(\"Time Step\", fontsize=14)\n",
    "    plt.ylabel(\"Actions (Scaled)\", fontsize=14)\n",
    "    plt.title(\"Actions Taken (RL vs. DPC)\", fontsize=18)\n",
    "    plt.grid(True, linestyle='--', linewidth=0.5)\n",
    "    plt.legend(fontsize=12, loc='upper right')\n",
    "    plt.tight_layout()\n",
    "\n",
    "\n",
    "    # Plot disturbances\n",
    "    plt.figure(figsize=(20, 5))\n",
    "    plt.plot(inf_data[\"d\"][0][:,0].numpy(), label=\"Outdoor Air Temp\", color='red', linestyle='-', linewidth=4)\n",
    "    plt.plot(inf_data[\"d\"][0][:,1].numpy(), label=\"Occupant Heat Load\", color='green', linestyle='-', linewidth=4)\n",
    "    plt.plot(inf_data[\"d\"][0][:,2].numpy(), label=\"Solar Radiation\", color='blue', linestyle='-', linewidth=4)\n",
    "\n",
    "    plt.xlabel(\"Time Step\", fontsize=14)\n",
    "    plt.ylabel(\"Disturbances\", fontsize=14)\n",
    "    plt.title(\"External Disturbances Over Time\", fontsize=18)\n",
    "    plt.grid(True, linestyle='--', linewidth=0.5)\n",
    "    plt.legend(fontsize=12, loc='upper right')\n",
    "    plt.tight_layout()\n",
    "\n",
    "    plt.show()\n",
    "\n",
    "    #Calculate operational cost and violations\n",
    "    rl_operational_cost = -1 * sum(rl_outputs[\"rewards\"]).item()\n",
    "    rl_violation_cost = sum(rl_outputs[\"costs\"]).item()\n",
    "\n",
    "    dpc_operational_cost, dpc_violation_cost = calculate_dpc_costs(dpc_trajectories)\n",
    "    # Bar plot for costs with dual axes\n",
    "    labels = ['Operational Cost', 'Violation Cost']\n",
    "    rl_costs = [rl_operational_cost, rl_violation_cost]\n",
    "    dpc_costs = [dpc_operational_cost, dpc_violation_cost]\n",
    "\n",
    "    x = np.arange(len(labels))\n",
    "    width = 0.2\n",
    "\n",
    "    fig, ax1 = plt.subplots(figsize=(15, 6))\n",
    "\n",
    "    # Plot operational costs on the left y-axis\n",
    "    bars_rl = ax1.bar(x - width/2, rl_costs, width, label='RL', color='blue', alpha=0.7)\n",
    "    bars_dpc = ax1.bar(x + width/2, dpc_costs, width, label='DPC', color='red', alpha=0.7)\n",
    "    ax1.set_ylabel('Operational Cost', fontsize=14)\n",
    "    ax1.set_ylim(0, max(rl_operational_cost, dpc_operational_cost) * 1.2)\n",
    "    ax1.set_xticks(x)\n",
    "    ax1.set_xticklabels(labels, fontsize=12)\n",
    "    ax1.set_title('Cost Comparison: RL vs. DPC', fontsize=16)\n",
    "\n",
    "    # Add a secondary y-axis for violation costs\n",
    "    ax2 = ax1.twinx()\n",
    "    ax2.set_ylabel('Violation Cost', fontsize=14)\n",
    "    ax2.set_ylim(0, max(rl_violation_cost, dpc_violation_cost) * 1.2)\n",
    "\n",
    "    # Add the violation costs as bars but differentiate them visually\n",
    "    bars_rl_violation = ax2.bar(x - width/2, [0, rl_violation_cost], width, label='RL Violation', color='darkblue', alpha=0.5, hatch='//')\n",
    "    bars_dpc_violation = ax2.bar(x + width/2, [0, dpc_violation_cost], width, label='DPC Violation', color='darkred', alpha=0.5, hatch='//')\n",
    "\n",
    "    # Combine legends\n",
    "    lines1, labels1 = ax1.get_legend_handles_labels()\n",
    "    lines2, labels2 = ax2.get_legend_handles_labels()\n",
    "    ax1.legend(lines1 + lines2, labels1 + labels2, loc='upper left', fontsize=12)\n",
    "\n",
    "    plt.tight_layout()\n",
    "    plt.show()\n",
    "\n",
    "    print(\"=== Cost Analysis ===\")\n",
    "    print(f\"RL Operational Cost: {rl_operational_cost:.2f}\")\n",
    "    print(f\"DPC Operational Cost: {dpc_operational_cost:.2f}\")\n",
    "    print(f\"RL Constraint Violation Cost: {rl_violation_cost:.2f}\")\n",
    "    print(f\"DPC Constraint Violation Cost: {dpc_violation_cost:.2f}\")"
   ],
   "id": "3a7da325b8c4c2a2",
   "outputs": [],
   "execution_count": 109
  },
  {
   "metadata": {
    "ExecuteTime": {
     "end_time": "2025-01-30T07:19:42.283082Z",
     "start_time": "2025-01-30T07:19:41.562962Z"
    }
   },
   "cell_type": "code",
   "source": "visualize_results(outputs, trajectories, inf_data)",
   "id": "32c7d0acb7340f24",
   "outputs": [
    {
     "name": "stderr",
     "output_type": "stream",
     "text": [
      "/home/alireza/anaconda3/envs/neuromancer/lib/python3.10/site-packages/numpy/core/shape_base.py:65: FutureWarning: The input object of type 'Tensor' is an array-like implementing one of the corresponding protocols (`__array__`, `__array_interface__` or `__array_struct__`); but not a sequence (or 0-D). In the future, this object will be coerced as if it was first converted using `np.array(obj)`. To retain the old behaviour, you have to either modify the type 'Tensor', or assign to an empty array created with `np.empty(correct_shape, dtype=object)`.\n",
      "  ary = asanyarray(ary)\n",
      "/home/alireza/anaconda3/envs/neuromancer/lib/python3.10/site-packages/numpy/core/shape_base.py:65: VisibleDeprecationWarning: Creating an ndarray from ragged nested sequences (which is a list-or-tuple of lists-or-tuples-or ndarrays with different lengths or shapes) is deprecated. If you meant to do this, you must specify 'dtype=object' when creating the ndarray.\n",
      "  ary = asanyarray(ary)\n"
     ]
    },
    {
     "data": {
      "text/plain": [
       "<Figure size 2000x500 with 1 Axes>"
      ],
      "image/png": "[encoded data removed]"
     },
     "metadata": {},
     "output_type": "display_data"
    },
    {
     "data": {
      "text/plain": [
       "<Figure size 2000x500 with 1 Axes>"
      ],
      "image/png": "[encoded data removed]"
     },
     "metadata": {},
     "output_type": "display_data"
    },
    {
     "data": {
      "text/plain": [
       "<Figure size 2000x500 with 1 Axes>"
      ],
      "image/png": "[encoded data removed]"
     },
     "metadata": {},
     "output_type": "display_data"
    },
    {
     "data": {
      "text/plain": [
       "<Figure size 1500x600 with 2 Axes>"
      ],
      "image/png": "[encoded data removed]"
     },
     "metadata": {},
     "output_type": "display_data"
    },
    {
     "name": "stdout",
     "output_type": "stream",
     "text": [
      "=== Cost Analysis ===\n",
      "RL Operational Cost: 5732.48\n",
      "DPC Operational Cost: 5690.33\n",
      "RL Constraint Violation Cost: 2.42\n",
      "DPC Constraint Violation Cost: 186.32\n"
     ]
    }
   ],
   "execution_count": 110
  }
 ],
 "metadata": {
  "kernelspec": {
   "display_name": "Python 3 (ipykernel)",
   "language": "python",
   "name": "python3"
  },
  "language_info": {
   "codemirror_mode": {
    "name": "ipython",
    "version": 3
   },
   "file_extension": ".py",
   "mimetype": "text/x-python",
   "name": "python",
   "nbconvert_exporter": "python",
   "pygments_lexer": "ipython3",
   "version": "3.10.15"
  }
 },
 "nbformat": 4,
 "nbformat_minor": 5
}
